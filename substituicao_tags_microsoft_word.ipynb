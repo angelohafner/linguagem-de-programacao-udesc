{
  "nbformat": 4,
  "nbformat_minor": 0,
  "metadata": {
    "colab": {
      "provenance": [],
      "authorship_tag": "ABX9TyNz94Q0nei/Xv9/7778CGqX",
      "include_colab_link": true
    },
    "kernelspec": {
      "name": "python3",
      "display_name": "Python 3"
    },
    "language_info": {
      "name": "python"
    }
  },
  "cells": [
    {
      "cell_type": "markdown",
      "metadata": {
        "id": "view-in-github",
        "colab_type": "text"
      },
      "source": [
        "<a href=\"https://colab.research.google.com/github/angelohafner/linguagem-de-programacao-udesc/blob/main/substituicao_tags_microsoft_word.ipynb\" target=\"_parent\"><img src=\"https://colab.research.google.com/assets/colab-badge.svg\" alt=\"Open In Colab\"/></a>"
      ]
    },
    {
      "cell_type": "code",
      "source": [
        "!pip install python-docx\n"
      ],
      "metadata": {
        "colab": {
          "base_uri": "https://localhost:8080/"
        },
        "id": "_mDrYy09HoQM",
        "outputId": "0eaecd1d-826c-4f3d-c292-932dd0a96434"
      },
      "execution_count": null,
      "outputs": [
        {
          "output_type": "stream",
          "name": "stdout",
          "text": [
            "Collecting python-docx\n",
            "  Downloading python_docx-1.2.0-py3-none-any.whl.metadata (2.0 kB)\n",
            "Requirement already satisfied: lxml>=3.1.0 in /usr/local/lib/python3.12/dist-packages (from python-docx) (5.4.0)\n",
            "Requirement already satisfied: typing_extensions>=4.9.0 in /usr/local/lib/python3.12/dist-packages (from python-docx) (4.15.0)\n",
            "Downloading python_docx-1.2.0-py3-none-any.whl (252 kB)\n",
            "\u001b[?25l   \u001b[90m━━━━━━━━━━━━━━━━━━━━━━━━━━━━━━━━━━━━━━━━\u001b[0m \u001b[32m0.0/253.0 kB\u001b[0m \u001b[31m?\u001b[0m eta \u001b[36m-:--:--\u001b[0m\r\u001b[2K   \u001b[91m━━━━━━━━━━━━━━━━━━━━━━━━━━━━━━━━━━━\u001b[0m\u001b[91m╸\u001b[0m\u001b[90m━━━━\u001b[0m \u001b[32m225.3/253.0 kB\u001b[0m \u001b[31m7.7 MB/s\u001b[0m eta \u001b[36m0:00:01\u001b[0m\r\u001b[2K   \u001b[90m━━━━━━━━━━━━━━━━━━━━━━━━━━━━━━━━━━━━━━━━\u001b[0m \u001b[32m253.0/253.0 kB\u001b[0m \u001b[31m5.0 MB/s\u001b[0m eta \u001b[36m0:00:00\u001b[0m\n",
            "\u001b[?25hInstalling collected packages: python-docx\n",
            "Successfully installed python-docx-1.2.0\n"
          ]
        }
      ]
    },
    {
      "cell_type": "code",
      "execution_count": null,
      "metadata": {
        "colab": {
          "base_uri": "https://localhost:8080/"
        },
        "id": "yajrGu59HHdU",
        "outputId": "64743d0c-8946-4813-b652-b4f51b837292"
      },
      "outputs": [
        {
          "output_type": "stream",
          "name": "stdout",
          "text": [
            "Saved: /content/Petro_Tags_Filled.docx\n"
          ]
        }
      ],
      "source": [
        "# Requirements: python-docx (pip install python-docx)\n",
        "from docx import Document\n",
        "from docx.oxml.text.paragraph import CT_P\n",
        "from docx.table import _Cell, Table\n",
        "\n",
        "# --- User settings (use raw strings on Windows) ---\n",
        "input_path = \"/content/Petro_Tags_Template.docx\"\n",
        "output_path = \"/content/Petro_Tags_Filled.docx\"\n",
        "\n",
        "# --- Tag mapping (all numeric values for the exercise) ---\n",
        "tag_values = {\n",
        "    \"{{P_i}}\": 3250,     # psi\n",
        "    \"{{P_wh}}\": 820,     # psi\n",
        "    \"{{P_wf}}\": 1450,    # psi\n",
        "    \"{{Q_o}}\": 1250,     # bbl/d\n",
        "    \"{{Q_g}}\": 450,      # Mscf/d\n",
        "    \"{{WC}}\": 28,        # %\n",
        "    \"{{GOR}}\": 850,      # scf/bbl\n",
        "    \"{{API}}\": 32,       # deg API\n",
        "    \"{{T_res}}\": 92,     # °C\n",
        "    \"{{k}}\": 120         # mD\n",
        "}\n",
        "\n",
        "def replace_in_paragraph(paragraph, mapping):\n",
        "    \"\"\"\n",
        "    Replace all tags found in a paragraph, even if split across runs.\n",
        "    Strategy: rebuild paragraph text once, then reset runs to a single run.\n",
        "    \"\"\"\n",
        "    text = paragraph.text\n",
        "    for k, v in mapping.items():\n",
        "        text = text.replace(k, str(v))\n",
        "    # Clear all runs\n",
        "    for _ in range(len(paragraph.runs)):\n",
        "        paragraph.runs[0].clear()\n",
        "        paragraph._p.remove(paragraph.runs[0]._r)  # remove run oxml\n",
        "    # Create a single run with the replaced text\n",
        "    run = paragraph.add_run(text)\n",
        "\n",
        "def iter_block_items(parent):\n",
        "    \"\"\"\n",
        "    Yield paragraphs and tables in document order.\n",
        "    This covers Document and _Cell containers.\n",
        "    \"\"\"\n",
        "    if isinstance(parent, Document):\n",
        "        parent_elm = parent.element.body\n",
        "    elif isinstance(parent, _Cell):\n",
        "        parent_elm = parent._tc\n",
        "    else:\n",
        "        return\n",
        "    for child in parent_elm.iterchildren():\n",
        "        if isinstance(child, CT_P):\n",
        "            yield parent.paragraphs[0] if isinstance(parent, Document) and len(parent.paragraphs) > 0 and child is parent.element.body.p_lst[0] else parent.paragraphs[parent.element.body.p_lst.index(child)] if isinstance(parent, Document) else _paragraph_from_child(parent, child)\n",
        "        else:\n",
        "            # Table\n",
        "            for t in parent.tables:\n",
        "                if t._tbl is child:\n",
        "                    yield t\n",
        "\n",
        "def _paragraph_from_child(container, child):\n",
        "    \"\"\"\n",
        "    Find the paragraph object matching a CT_P 'child' inside a container (_Cell).\n",
        "    \"\"\"\n",
        "    for p in container.paragraphs:\n",
        "        if p._p is child:\n",
        "            return p\n",
        "    # Fallback: create a new paragraph reference if not found\n",
        "    return container.add_paragraph(child.text)\n",
        "\n",
        "def replace_in_table(table, mapping):\n",
        "    \"\"\"\n",
        "    Replace tags in all cells of a table.\n",
        "    \"\"\"\n",
        "    for row in table.rows:\n",
        "        for cell in row.cells:\n",
        "            for para in cell.paragraphs:\n",
        "                replace_in_paragraph(para, mapping)\n",
        "\n",
        "# --- Process document ---\n",
        "doc = Document(input_path)\n",
        "\n",
        "# Replace in top-level paragraphs and in tables\n",
        "for para in doc.paragraphs:\n",
        "    replace_in_paragraph(para, tag_values)\n",
        "\n",
        "for tbl in doc.tables:\n",
        "    replace_in_table(tbl, tag_values)\n",
        "\n",
        "# Also replace inside nested tables within cells (defensive)\n",
        "for tbl in doc.tables:\n",
        "    for row in tbl.rows:\n",
        "        for cell in row.cells:\n",
        "            for nested_tbl in cell.tables:\n",
        "                replace_in_table(nested_tbl, tag_values)\n",
        "\n",
        "doc.save(output_path)\n",
        "print(\"Saved:\", output_path)\n"
      ]
    }
  ]
}