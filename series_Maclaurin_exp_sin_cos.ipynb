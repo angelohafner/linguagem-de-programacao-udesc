{
  "nbformat": 4,
  "nbformat_minor": 0,
  "metadata": {
    "colab": {
      "provenance": [],
      "authorship_tag": "ABX9TyPwaaJOl/KBeV3OQWNEe3Z+",
      "include_colab_link": true
    },
    "kernelspec": {
      "name": "python3",
      "display_name": "Python 3"
    },
    "language_info": {
      "name": "python"
    }
  },
  "cells": [
    {
      "cell_type": "markdown",
      "metadata": {
        "id": "view-in-github",
        "colab_type": "text"
      },
      "source": [
        "<a href=\"https://colab.research.google.com/github/angelohafner/linguagem-de-programacao-udesc/blob/main/series_Maclaurin_exp_sin_cos.ipynb\" target=\"_parent\"><img src=\"https://colab.research.google.com/assets/colab-badge.svg\" alt=\"Open In Colab\"/></a>"
      ]
    },
    {
      "cell_type": "markdown",
      "source": [
        "A série de Taylor (ou série de Maclaurin) da função exponencial $e^x$ é dada por:\n",
        "\n",
        "$$\n",
        "e^x = \\sum_{n=0}^{\\infty} \\frac{x^n}{n!}\n",
        "$$\n",
        "\n",
        "Ou seja, expandindo os primeiros termos:\n",
        "\n",
        "$$\n",
        "e^x = 1 + x + \\frac{x^2}{2!} + \\frac{x^3}{3!} + \\frac{x^4}{4!} + \\cdots\n",
        "$$\n",
        "\n",
        "Essa série converge para qualquer valor real (ou complexo) de $x$.\n"
      ],
      "metadata": {
        "id": "wvtE3HMQdPuI"
      }
    },
    {
      "cell_type": "code",
      "execution_count": 37,
      "metadata": {
        "id": "5mlY43LXdO4P"
      },
      "outputs": [],
      "source": [
        "def calcular_fatorial(numero_inteiro):\n",
        "    if numero_inteiro == 0:\n",
        "        resultado = 1\n",
        "    elif numero_inteiro < 0:\n",
        "        resultado = \"não existe\"\n",
        "    else:\n",
        "        resultado = 1\n",
        "        numero = numero_inteiro\n",
        "        while(numero > 1):\n",
        "            resultado = resultado * numero\n",
        "            numero = numero - 1\n",
        "\n",
        "    return resultado\n",
        "\n"
      ]
    },
    {
      "cell_type": "code",
      "source": [
        "def calcular_exponencial(x, n):\n",
        "    soma = 0\n",
        "    for ii in range(0, n):\n",
        "        exponencial = x**ii / calcular_fatorial(ii)\n",
        "        soma = soma + exponencial\n",
        "\n",
        "    return soma"
      ],
      "metadata": {
        "id": "l_v6p5OvjHja"
      },
      "execution_count": 38,
      "outputs": []
    },
    {
      "cell_type": "code",
      "source": [
        "calcular_exponencial(1, 1000)"
      ],
      "metadata": {
        "colab": {
          "base_uri": "https://localhost:8080/"
        },
        "id": "MZt-0sCckZN5",
        "outputId": "d73836a9-e79c-4040-ea92-a84eeaaa05be"
      },
      "execution_count": 39,
      "outputs": [
        {
          "output_type": "execute_result",
          "data": {
            "text/plain": [
              "2.7182818284590455"
            ]
          },
          "metadata": {},
          "execution_count": 39
        }
      ]
    },
    {
      "cell_type": "markdown",
      "source": [
        "A série de Maclaurin para a função seno é dada por:\n",
        "\n",
        "$$\n",
        "\\sin(x) = \\sum_{n=0}^{\\infty} \\frac{(-1)^n}{(2n+1)!} \\, x^{2n+1}\n",
        "$$\n",
        "\n",
        "Expansão dos primeiros termos:\n",
        "\n",
        "$$\n",
        "\\sin(x) = x - \\frac{x^3}{3!} + \\frac{x^5}{5!} - \\frac{x^7}{7!} + \\cdots\n",
        "$$\n",
        "\n",
        "Essa série converge para todo número real (ou complexo) $x$.\n"
      ],
      "metadata": {
        "id": "r5DdP8pUd-Gn"
      }
    },
    {
      "cell_type": "code",
      "source": [],
      "metadata": {
        "id": "h5JKResAeFZZ"
      },
      "execution_count": 39,
      "outputs": []
    },
    {
      "cell_type": "markdown",
      "source": [
        "A série de Maclaurin para a função cosseno é dada por:\n",
        "\n",
        "$$\n",
        "\\cos(x) = \\sum_{n=0}^{\\infty} \\frac{(-1)^n}{(2n)!} \\, x^{2n}\n",
        "$$\n",
        "\n",
        "Expansão dos primeiros termos:\n",
        "\n",
        "$$\n",
        "\\cos(x) = 1 - \\frac{x^2}{2!} + \\frac{x^4}{4!} - \\frac{x^6}{6!} + \\cdots\n",
        "$$\n",
        "\n",
        "Essa série converge para todo número real (ou complexo) $x$.\n"
      ],
      "metadata": {
        "id": "AIvXDZgZeFxn"
      }
    },
    {
      "cell_type": "code",
      "source": [
        "%reset -f"
      ],
      "metadata": {
        "id": "-KZMZBeQdnr4"
      },
      "execution_count": 40,
      "outputs": []
    }
  ]
}