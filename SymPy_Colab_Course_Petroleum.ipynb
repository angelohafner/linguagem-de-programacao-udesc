{
  "cells": [
    {
      "cell_type": "markdown",
      "metadata": {
        "id": "view-in-github",
        "colab_type": "text"
      },
      "source": [
        "<a href=\"https://colab.research.google.com/github/angelohafner/linguagem-de-programacao-udesc/blob/main/SymPy_Colab_Course_Petroleum.ipynb\" target=\"_parent\"><img src=\"https://colab.research.google.com/assets/colab-badge.svg\" alt=\"Open In Colab\"/></a>"
      ]
    },
    {
      "cell_type": "markdown",
      "metadata": {
        "id": "wS4WPKO7n2cg"
      },
      "source": [
        "# SymPy on Google Colab 🐍✨\n",
        "\n",
        "Bem-vindo! Este notebook ensina **SymPy** passo a passo com aulas curtas e práticas.\n",
        "As equações usarão LaTeX com `$ ... $` e `$$ ... $$`. Em todos os exemplos, as variáveis serão declaradas explicitamente.\n",
        "\n",
        "**Instalação rápida:**\n",
        "\n",
        "Se necessário, execute a célula abaixo (apenas uma vez) para garantir que SymPy esteja disponível.\n"
      ],
      "id": "wS4WPKO7n2cg"
    },
    {
      "cell_type": "code",
      "metadata": {
        "id": "MJctRuXln2ch"
      },
      "execution_count": 7,
      "outputs": [],
      "source": [
        "# Install SymPy if needed (Colab usually has it)!pip -q install sympy"
      ],
      "id": "MJctRuXln2ch"
    },
    {
      "cell_type": "markdown",
      "metadata": {
        "id": "cHGM0du9n2ch"
      },
      "source": [
        "---\n",
        "## 🔧 Setup e imports\n",
        "Vamos importar as bibliotecas que usaremos nas aulas.\n"
      ],
      "id": "cHGM0du9n2ch"
    },
    {
      "cell_type": "code",
      "metadata": {
        "id": "vWm5iGhAn2ci"
      },
      "execution_count": 8,
      "outputs": [],
      "source": [
        "# Imports: always explicit and clear\n",
        "import sympy as sp  # symbolic math\n",
        "import numpy as np  # numerical arrays (used later with lambdify)\n",
        "from sympy import Eq\n",
        "sp.init_printing()  # pretty printing for expressions\n"
      ],
      "id": "vWm5iGhAn2ci"
    },
    {
      "cell_type": "markdown",
      "metadata": {
        "id": "R-SObH9vn2ci"
      },
      "source": [
        "---\n",
        "## 🧩 Aula 1 — Variáveis, constantes e expressões simbólicas ✏️\n",
        "\n",
        "Nesta aula, vamos criar símbolos, constantes e expressões.\n",
        "\n",
        "**Conceitos:**\n",
        "- Declarar variáveis: $x$, $y$ com `sp.Symbol` / `sp.symbols`.\n",
        "- Construir expressões: por exemplo, $f(x) = x^2 + 3x + 1$.\n",
        "\n",
        "**Exemplo:**\n"
      ],
      "id": "R-SObH9vn2ci"
    },
    {
      "cell_type": "code",
      "metadata": {
        "colab": {
          "base_uri": "https://localhost:8080/"
        },
        "id": "C1Ht3Jnxn2ci",
        "outputId": "36c2c0b6-dd03-41e9-9364-8e6e0fecaa90"
      },
      "execution_count": 9,
      "outputs": [
        {
          "output_type": "stream",
          "name": "stdout",
          "text": [
            "f(x) = x**2 + 3*x + 1\n",
            "g(x) = exp(x) + sin(x)\n",
            "f(2) = 11\n"
          ]
        }
      ],
      "source": [
        "# Declare variables explicitly\n",
        "x = sp.Symbol('x')  # single symbol\n",
        "y, a, b, c = sp.symbols('y a b c')  # multiple symbols in one call\n",
        "\n",
        "# Build expressions\n",
        "f = x**2 + 3*x + 1  # polynomial expression\n",
        "g = sp.sin(x) + sp.exp(x)  # transcendental expression\n",
        "\n",
        "# Display expressions\n",
        "print('f(x) =', f)\n",
        "print('g(x) =', g)\n",
        "\n",
        "# Substitute values\n",
        "f_at_2 = f.subs(x, 2)  # substitute x by 2\n",
        "print('f(2) =', f_at_2)\n"
      ],
      "id": "C1Ht3Jnxn2ci"
    },
    {
      "cell_type": "markdown",
      "metadata": {
        "id": "jto-I9Bhn2ci"
      },
      "source": [
        "**Exercícios (faça você mesmo) 💪**\n",
        "1. Declare símbolos $m$, $n$ e construa $h(x) = m x^2 + n x + 5$. Avalie $h(3)$.\n",
        "2. Crie $p(x) = \\cos(x) + x^3$ e calcule $p(0)$.\n"
      ],
      "id": "jto-I9Bhn2ci"
    },
    {
      "cell_type": "markdown",
      "metadata": {
        "id": "2apVd8RZn2ci"
      },
      "source": [
        "---\n",
        "## 🔢 Aula 2 — Derivadas e integrais simbólicas 🧮\n",
        "\n",
        "Vamos calcular derivadas e integrais usando `sp.diff` e `sp.integrate`.\n",
        "\n",
        "Para $f(x) = \\sin(x) e^{x}$:\n",
        "$$ f'(x) = \\frac{d}{dx}[\\sin(x) e^{x}] $$\n"
      ],
      "id": "2apVd8RZn2ci"
    },
    {
      "cell_type": "code",
      "metadata": {
        "colab": {
          "base_uri": "https://localhost:8080/"
        },
        "id": "zvA5F5rCn2cj",
        "outputId": "ad5b2665-b8bb-49fd-a706-abd3666c9d66"
      },
      "execution_count": 10,
      "outputs": [
        {
          "output_type": "stream",
          "name": "stdout",
          "text": [
            "f(x) = exp(x)*sin(x)\n",
            "f'(x) = exp(x)*sin(x) + exp(x)*cos(x)\n",
            "f''(x) = 2*exp(x)*cos(x)\n",
            "Integral indefinida F(x) = exp(x)*sin(x)/2 - exp(x)*cos(x)/2\n",
            "Integral definida de 0 a pi = 1/2 + exp(pi)/2\n"
          ]
        }
      ],
      "source": [
        "# Declare variable and define function for calculus operations\n",
        "x = sp.Symbol('x')\n",
        "f = sp.sin(x) * sp.exp(x)\n",
        "\n",
        "# Derivatives\n",
        "df = sp.diff(f, x)  # first derivative\n",
        "d2f = sp.diff(f, x, 2)  # second derivative\n",
        "\n",
        "# Integrals (indefinite and definite)\n",
        "F = sp.integrate(f, x)  # indefinite integral\n",
        "I_def = sp.integrate(f, (x, 0, sp.pi))  # definite integral from 0 to pi\n",
        "\n",
        "print('f(x) =', f)\n",
        "print(\"f'(x) =\", df)\n",
        "print(\"f''(x) =\", d2f)\n",
        "print('Integral indefinida F(x) =', F)\n",
        "print('Integral definida de 0 a pi =', I_def)\n"
      ],
      "id": "zvA5F5rCn2cj"
    },
    {
      "cell_type": "markdown",
      "metadata": {
        "id": "fIlqrl_Zn2cj"
      },
      "source": [
        "**Exercícios 💡**\n",
        "1. Para $q(x) = x^3 - 2x + 4$, calcule $q'(x)$ e $\\int q(x)\\,dx$.\n",
        "2. Calcule $\\int_0^1 (x e^x)\\,dx$.\n"
      ],
      "id": "fIlqrl_Zn2cj"
    },
    {
      "cell_type": "markdown",
      "metadata": {
        "id": "Ux5Ycn4pn2cj"
      },
      "source": [
        "---\n",
        "## ➗ Aula 3 — Limites e Séries de Taylor 📈\n",
        "\n",
        "Cálculo de limites com `sp.limit` e expansões com `sp.series`.\n",
        "\n",
        "Exemplo: $$ \\lim_{x \\to 0} \\frac{\\sin(x)}{x} $$\n"
      ],
      "id": "Ux5Ycn4pn2cj"
    },
    {
      "cell_type": "code",
      "metadata": {
        "colab": {
          "base_uri": "https://localhost:8080/"
        },
        "id": "8xw1Ykaen2cj",
        "outputId": "8e580840-88a1-4f95-ada0-e4849c25d23a"
      },
      "execution_count": 11,
      "outputs": [
        {
          "output_type": "stream",
          "name": "stdout",
          "text": [
            "lim_{x -> 0} sin(x)/x = 1\n",
            "Series around 0 up to x^5: 1 + x - x**3/3 - x**4/6 - x**5/30 + O(x**6)\n"
          ]
        }
      ],
      "source": [
        "# Declare variable\n",
        "x = sp.Symbol('x')\n",
        "\n",
        "# Limits\n",
        "limit_value = sp.limit(sp.sin(x)/x, x, 0)\n",
        "print('lim_{x -> 0} sin(x)/x =', limit_value)\n",
        "\n",
        "# Series expansion (Taylor/Maclaurin)\n",
        "f = sp.exp(x) * sp.cos(x)\n",
        "series_expansion = sp.series(f, x, 0, 6)  # up to x^5 terms\n",
        "print('Series around 0 up to x^5:', series_expansion)\n"
      ],
      "id": "8xw1Ykaen2cj"
    },
    {
      "cell_type": "markdown",
      "metadata": {
        "id": "85JW-k6ln2cj"
      },
      "source": [
        "**Exercícios 📝**\n",
        "1. Calcule $\\lim_{x\\to 0} \\frac{1-\\cos(x)}{x^2}$.\n",
        "2. Encontre a série de Maclaurin de $\\sin(x)$ até ordem $x^7$.\n"
      ],
      "id": "85JW-k6ln2cj"
    },
    {
      "cell_type": "markdown",
      "metadata": {
        "id": "MEVnfG8an2cj"
      },
      "source": [
        "---\n",
        "## ⚙️ Aula 4 — Resolver equações e sistemas 🔍\n",
        "\n",
        "Resolver equações com `sp.solve`/`sp.solve_univariate_inequality` e sistemas com `sp.solve`.\n"
      ],
      "id": "MEVnfG8an2cj"
    },
    {
      "cell_type": "code",
      "metadata": {
        "colab": {
          "base_uri": "https://localhost:8080/"
        },
        "id": "BKdbDBCZn2cj",
        "outputId": "5a0be117-1580-4521-ff9a-f2ed2d0cc399"
      },
      "execution_count": 12,
      "outputs": [
        {
          "output_type": "stream",
          "name": "stdout",
          "text": [
            "Solutions for x^2 - 5x + 6 = 0: [2, 3]\n",
            "Solution for the linear system: {x: 20/7, y: 9/7}\n"
          ]
        }
      ],
      "source": [
        "# Declare symbols\n",
        "x, y = sp.symbols('x y')\n",
        "\n",
        "# Single equation\n",
        "eq1 = sp.Eq(x**2 - 5*x + 6, 0)\n",
        "sol_eq1 = sp.solve(eq1, x)  # solves for x\n",
        "print('Solutions for x^2 - 5x + 6 = 0:', sol_eq1)\n",
        "\n",
        "# System of equations\n",
        "eq2 = sp.Eq(2*x + y, 7)\n",
        "eq3 = sp.Eq(-x + 3*y, 1)\n",
        "sol_system = sp.solve((eq2, eq3), (x, y))\n",
        "print('Solution for the linear system:', sol_system)\n"
      ],
      "id": "BKdbDBCZn2cj"
    },
    {
      "cell_type": "markdown",
      "metadata": {
        "id": "jLuXNzfCn2cj"
      },
      "source": [
        "**Exercícios 🧠**\n",
        "1. Resolva $x^3 - 1 = 0$.\n",
        "2. Resolva o sistema: $\\begin{cases} 3x - y = 5 \\\\ 2x + 4y = 10 \\end{cases}$.\n"
      ],
      "id": "jLuXNzfCn2cj"
    },
    {
      "cell_type": "markdown",
      "metadata": {
        "id": "51KdT5TFn2cj"
      },
      "source": [
        "---\n",
        "## 🔄 Aula 5 — Substituição, avaliação numérica e simplificação 🧰\n",
        "\n",
        "Usando `subs`, `evalf` e `simplify`.\n"
      ],
      "id": "51KdT5TFn2cj"
    },
    {
      "cell_type": "code",
      "metadata": {
        "colab": {
          "base_uri": "https://localhost:8080/"
        },
        "id": "24YdqCOsn2cj",
        "outputId": "924b078e-706b-4427-bbac-6792f88df5fd"
      },
      "execution_count": 13,
      "outputs": [
        {
          "output_type": "stream",
          "name": "stdout",
          "text": [
            "Original expr: (x**3 - x**2)/(-x**2 + x)\n",
            "Simplified   : -x\n",
            "sin(pi/6) exact = 1/2\n",
            "sin(pi/6) float = 0.500000000000000\n"
          ]
        }
      ],
      "source": [
        "# Declare variable and expression\n",
        "x = sp.Symbol('x')\n",
        "expr = (x**3 - x**2) / (x - x**2)\n",
        "\n",
        "# Simplify expression\n",
        "expr_simplified = sp.simplify(expr)\n",
        "print('Original expr:', expr)\n",
        "print('Simplified   :', expr_simplified)\n",
        "\n",
        "# Substitute and numeric evaluation\n",
        "value_pi = sp.sin(x).subs(x, sp.pi/6)  # exact value\n",
        "value_float = sp.N(value_pi)  # numeric approximation\n",
        "print('sin(pi/6) exact =', value_pi)\n",
        "print('sin(pi/6) float =', value_float)\n"
      ],
      "id": "24YdqCOsn2cj"
    },
    {
      "cell_type": "markdown",
      "metadata": {
        "id": "MaHYQibjn2cj"
      },
      "source": [
        "**Exercícios 🧩**\n",
        "1. Simplifique $\\frac{x^2-1}{x-1}$ e avalie em $x=1.1$ (use `evalf`).\n",
        "2. Substitua $x=\\pi/4$ em $\\cos(x)$ e calcule valor exato e numérico.\n"
      ],
      "id": "MaHYQibjn2cj"
    },
    {
      "cell_type": "markdown",
      "metadata": {
        "id": "v2aCmekdn2cj"
      },
      "source": [
        "---\n",
        "## 📈 Aula 6 — De SymPy para NumPy com `lambdify` e gráfico\n",
        "\n",
        "Converter expressões simbólicas em funções NumPy vetorizadas com `sp.lambdify`.\n"
      ],
      "id": "v2aCmekdn2cj"
    },
    {
      "cell_type": "code",
      "metadata": {
        "colab": {
          "base_uri": "https://localhost:8080/",
          "height": 472
        },
        "id": "1s5dQ2BVn2cj",
        "outputId": "2ea81ee7-b7c3-40a0-8310-908703903cf7"
      },
      "execution_count": 14,
      "outputs": [
        {
          "output_type": "display_data",
          "data": {
            "text/plain": [
              "<Figure size 640x480 with 1 Axes>"
            ],
            "image/png": "[encoded data removed]"
          },
          "metadata": {}
        }
      ],
      "source": [
        "# Declare variable and function\n",
        "x = sp.Symbol('x')\n",
        "f = sp.sin(x) * sp.exp(-x/3)\n",
        "\n",
        "# Convert to numpy-callable function\n",
        "f_np = sp.lambdify(x, f, 'numpy')\n",
        "\n",
        "# Example usage with numpy arrays\n",
        "import matplotlib.pyplot as plt  # used for plotting\n",
        "X = np.linspace(0, 10, 200)\n",
        "Y = f_np(X)\n",
        "\n",
        "# Plot (simple line plot)\n",
        "plt.figure()\n",
        "plt.plot(X, Y)\n",
        "plt.title('f(x) = sin(x) * exp(-x/3)')\n",
        "plt.xlabel('x')\n",
        "plt.ylabel('f(x)')\n",
        "plt.grid(True)\n",
        "plt.show()\n"
      ],
      "id": "1s5dQ2BVn2cj"
    },
    {
      "cell_type": "markdown",
      "metadata": {
        "id": "89wJvoKTn2ck"
      },
      "source": [
        "**Exercícios 🎯**\n",
        "1. Converta $g(x) = x\\,e^{-x}$ para NumPy e faça o gráfico em $[0,5]$.\n",
        "2. Calcule $f(0)$, $f(\\pi)$, $f(2\\pi)$ usando a função vetorizada.\n"
      ],
      "id": "89wJvoKTn2ck"
    },
    {
      "cell_type": "markdown",
      "metadata": {
        "id": "QYkzKg-nn2ck"
      },
      "source": [
        "---\n",
        "## 🧮 Aula 7 — Matrizes simbólicas e álgebra linear 🧱\n",
        "\n",
        "Crie matrizes, calcule determinante, inversa e autovalores.\n"
      ],
      "id": "QYkzKg-nn2ck"
    },
    {
      "cell_type": "code",
      "metadata": {
        "colab": {
          "base_uri": "https://localhost:8080/"
        },
        "id": "y3c97iQVn2ck",
        "outputId": "9e60fcb5-0e1a-4d9b-db0f-b9fea1135c00"
      },
      "execution_count": 15,
      "outputs": [
        {
          "output_type": "stream",
          "name": "stdout",
          "text": [
            "A =\n",
            "⎡a  b⎤\n",
            "⎢    ⎥\n",
            "⎣c  d⎦\n",
            "\n",
            "Determinant(A) = a*d - b*c\n",
            "\n",
            "A^{-1} =\n",
            "⎡    d         -b    ⎤\n",
            "⎢─────────  ─────────⎥\n",
            "⎢a⋅d - b⋅c  a⋅d - b⋅c⎥\n",
            "⎢                    ⎥\n",
            "⎢   -c          a    ⎥\n",
            "⎢─────────  ─────────⎥\n",
            "⎣a⋅d - b⋅c  a⋅d - b⋅c⎦\n",
            "\n",
            "Eigenvalues of [[2,1],[1,2]] = {3: 1, 1: 1}\n"
          ]
        }
      ],
      "source": [
        "# Declare symbols\n",
        "a, b, c, d = sp.symbols('a b c d')\n",
        "\n",
        "# Define a 2x2 matrix\n",
        "A = sp.Matrix([[a, b], [c, d]])\n",
        "\n",
        "# Compute determinant and inverse (if det != 0)\n",
        "detA = A.det()\n",
        "A_inv = A.inv()  # symbolic inverse\n",
        "\n",
        "print('A =')\n",
        "sp.pprint(A)\n",
        "print('\\nDeterminant(A) =', detA)\n",
        "print('\\nA^{-1} =')\n",
        "sp.pprint(A_inv)\n",
        "\n",
        "# Eigenvalues with a numeric example\n",
        "M = sp.Matrix([[2, 1], [1, 2]])\n",
        "eigs = M.eigenvals()\n",
        "print('\\nEigenvalues of [[2,1],[1,2]] =', eigs)\n"
      ],
      "id": "y3c97iQVn2ck"
    },
    {
      "cell_type": "markdown",
      "metadata": {
        "id": "zEZnsarVn2ck"
      },
      "source": [
        "**Exercícios 🧠**\n",
        "1. Calcule $\\det\\begin{pmatrix}1 & 2 \\\\ 3 & 4\\end{pmatrix}$.\n",
        "2. Encontre a inversa simbólica de $\\begin{pmatrix}x & 1 \\\\ 0 & x\\end{pmatrix}$.\n"
      ],
      "id": "zEZnsarVn2ck"
    },
    {
      "cell_type": "markdown",
      "metadata": {
        "id": "HEGkQdz-n2ck"
      },
      "source": [
        "---\n",
        "## 🌊 Aula 8 — Equações diferenciais (ODE) com `dsolve` 🧭\n",
        "\n",
        "Resolver ODEs simples com `sp.dsolve`.\n",
        "Exemplo: $$ y'(x) - y(x) = e^{x} $$\n"
      ],
      "id": "HEGkQdz-n2ck"
    },
    {
      "cell_type": "code",
      "metadata": {
        "colab": {
          "base_uri": "https://localhost:8080/"
        },
        "id": "X_a-JIpen2ck",
        "outputId": "de319e1d-3ae8-4eca-a61e-7e19669d9674"
      },
      "execution_count": 16,
      "outputs": [
        {
          "output_type": "stream",
          "name": "stdout",
          "text": [
            "Solution for y'(x) - y(x) = e^x:\n",
            "                 x\n",
            "y(x) = (C₁ + x)⋅ℯ \n",
            "\n",
            "IVP solution for y'(x) + 2y = 0 with y(0)=3:\n",
            "          -2⋅x\n",
            "y(x) = 3⋅ℯ    \n"
          ]
        }
      ],
      "source": [
        "# Declare symbols and function\n",
        "x = sp.Symbol('x')\n",
        "y = sp.Function('y')\n",
        "\n",
        "# Define the ODE: y'(x) - y(x) = exp(x)\n",
        "ode = sp.Eq(sp.diff(y(x), x) - y(x), sp.exp(x))\n",
        "solution = sp.dsolve(ode)\n",
        "print('Solution for y\\'(x) - y(x) = e^x:')\n",
        "sp.pprint(solution)\n",
        "\n",
        "# Initial value problem example: y'(x) + 2y = 0, y(0) = 3\n",
        "ode_ivp = sp.Eq(sp.diff(y(x), x) + 2*y(x), 0)\n",
        "sol_ivp = sp.dsolve(ode_ivp, ics={y(0): 3})\n",
        "print('\\nIVP solution for y\\'(x) + 2y = 0 with y(0)=3:')\n",
        "sp.pprint(sol_ivp)\n"
      ],
      "id": "X_a-JIpen2ck"
    },
    {
      "cell_type": "markdown",
      "metadata": {
        "id": "CmvIGyqVn2ck"
      },
      "source": [
        "**Exercícios 🚀**\n",
        "1. Resolva $y'(x) - 3y(x) = 0$ e encontre $y(0)=2$.\n",
        "2. Resolva $y''(x) + y(x) = 0$.\n"
      ],
      "id": "CmvIGyqVn2ck"
    },
    {
      "cell_type": "markdown",
      "metadata": {
        "id": "dqfRfZv9n2ck"
      },
      "source": [
        "---\n",
        "## 🧼 Aula 9 — Assunções, simplificações e manipulação algébrica 🧯\n",
        "\n",
        "Defina assunções (por exemplo, $x>0$) e use funções de simplificação: `expand`, `factor`, `cancel`.\n"
      ],
      "id": "dqfRfZv9n2ck"
    },
    {
      "cell_type": "code",
      "metadata": {
        "colab": {
          "base_uri": "https://localhost:8080/"
        },
        "id": "yb446Pr0n2ck",
        "outputId": "1703a9e3-5748-4ed8-b1e8-acc7382510c6"
      },
      "execution_count": 17,
      "outputs": [
        {
          "output_type": "stream",
          "name": "stdout",
          "text": [
            "expand((x+1)(x-1)) = x**2 - 1\n",
            "factor(x^2 - 1)    = (x - 1)*(x + 1)\n",
            "cancel((x^2-1)/(x-1)) = x + 1\n"
          ]
        }
      ],
      "source": [
        "# Declare symbols with assumptions\n",
        "x = sp.Symbol('x', positive=True)  # x is positive\n",
        "y = sp.Symbol('y', real=True)      # y is real\n",
        "\n",
        "# Algebraic manipulation\n",
        "expr = (x**2 - 1)/(x - 1)\n",
        "expanded = sp.expand((x + 1)*(x - 1))\n",
        "factored = sp.factor(x**2 - 1)\n",
        "canceled = sp.cancel(expr)\n",
        "\n",
        "print('expand((x+1)(x-1)) =', expanded)\n",
        "print('factor(x^2 - 1)    =', factored)\n",
        "print('cancel((x^2-1)/(x-1)) =', canceled)\n"
      ],
      "id": "yb446Pr0n2ck"
    },
    {
      "cell_type": "markdown",
      "metadata": {
        "id": "Acpg3Plsn2ck"
      },
      "source": [
        "**Exercícios 🧪**\n",
        "1. Use `factor` em $x^3 - 1$.\n",
        "2. Use `expand` em $(x+2)^3$ e verifique com `factor`.\n"
      ],
      "id": "Acpg3Plsn2ck"
    },
    {
      "cell_type": "markdown",
      "metadata": {
        "id": "uTsWRQPXn2ck"
      },
      "source": [
        "---\n",
        "## 🏁 Desafio Final — Integre tudo! 🧠🔥\n",
        "\n",
        "Crie um pipeline com os passos:\n",
        "1. Declare símbolos $x$ e $k$ ($k>0$).\n",
        "2. Defina $f(x) = e^{-kx} \\sin(x)$.\n",
        "3. Calcule $f'(x)$, a série de Maclaurin até ordem $x^5$ e a integral definida de $0$ a $\\pi$.\n",
        "4. Converta $f(x)$ via `lambdify` para uma função NumPy e faça um gráfico em $[0, 6\\pi]$ para $k=0.1$.\n",
        "5. Resolva a ODE $y'(x) + k y(x) = f(x)$ com $y(0)=0$.\n",
        "\n",
        "Use comentários em inglês no código e formate as equações com `$ ... $` e `$$ ... $$`. Boa prática! ✅\n"
      ],
      "id": "uTsWRQPXn2ck"
    },
    {
      "cell_type": "markdown",
      "metadata": {
        "id": "Bv2K792Fn2ck"
      },
      "source": [
        "---\n",
        "## 📚 Dicas e referências\n",
        "- Documentação oficial: https://docs.sympy.org/latest/index.html\n",
        "- Guia de funções: https://docs.sympy.org/latest/modules/index.html\n",
        "\n",
        "_Notebook gerado automaticamente em 2025-08-14 12:41:19._"
      ],
      "id": "Bv2K792Fn2ck"
    },
    {
      "cell_type": "markdown",
      "metadata": {
        "id": "SpemRD5Yn2ck"
      },
      "source": [
        "---\n",
        "## 🛢️ Aula Extra — Aplicações em Engenharia de Petróleo\n",
        "\n",
        "Nesta aula extra, aplicamos **SymPy** em dois problemas típicos:\n",
        "1. **Curvas de declínio exponencial** (produção de petróleo).\n",
        "2. **Escoamento radial (Lei de Darcy)** para poços.\n",
        "\n",
        "As equações serão apresentadas em LaTeX usando `$...$` e `$$...$$`.\n"
      ],
      "id": "SpemRD5Yn2ck"
    },
    {
      "cell_type": "markdown",
      "metadata": {
        "id": "sjZ7pT8Un2ck"
      },
      "source": [
        "### 1) Curva de declínio exponencial ⤵️\n",
        "Modelo clássico: $q(t) = q_0 e^{-Dt}$. A produção acumulada é $$N_p(t) = \\int_0^t q(\\tau)\\,d\\tau = \\frac{q_0}{D}\\big(1 - e^{-Dt}\\big).$$\n",
        "Tempo para atingir uma vazão-alvo $q_t$: $$t = \\frac{1}{D}\\ln\\!\\left(\\frac{q_0}{q_t}\\right).$$\n"
      ],
      "id": "sjZ7pT8Un2ck"
    },
    {
      "cell_type": "code",
      "metadata": {
        "colab": {
          "base_uri": "https://localhost:8080/",
          "height": 996
        },
        "id": "KNjBjGJyn2ck",
        "outputId": "f79f87c3-7ca6-4bf1-b8b1-41a25a39d175"
      },
      "execution_count": 18,
      "outputs": [
        {
          "output_type": "stream",
          "name": "stdout",
          "text": [
            "q(t)   = q0*exp(-D*t)\n",
            "Np(t)  = q0/D - q0*exp(-D*t)/D\n",
            "t(q_targ) = (log(q0) - log(q_targ))/D\n"
          ]
        },
        {
          "output_type": "display_data",
          "data": {
            "text/plain": [
              "<Figure size 640x480 with 1 Axes>"
            ],
            "image/png": "[encoded data removed]"
          },
          "metadata": {}
        },
        {
          "output_type": "display_data",
          "data": {
            "text/plain": [
              "<Figure size 640x480 with 1 Axes>"
            ],
            "image/png": "[encoded data removed]"
          },
          "metadata": {}
        },
        {
          "output_type": "stream",
          "name": "stdout",
          "text": [
            "Time to reach q_targ = 916.2907318741554 days\n"
          ]
        }
      ],
      "source": [
        "# Exponential decline with SymPy (comments in English)\n",
        "import sympy as sp\n",
        "import numpy as np\n",
        "import matplotlib.pyplot as plt\n",
        "\n",
        "# Declare symbols explicitly\n",
        "t, q0, D = sp.symbols('t q0 D', positive=True, real=True)\n",
        "q_targ = sp.Symbol('q_targ', positive=True, real=True)\n",
        "\n",
        "# Define rate and cumulative production\n",
        "q_t = q0 * sp.exp(-D*t)  # rate\n",
        "Np_t = sp.integrate(q_t, (t, 0, t))  # cumulative production\n",
        "\n",
        "# Solve time to reach target rate q_targ\n",
        "eq_t = sp.Eq(q_t, q_targ)\n",
        "t_solution = sp.solve(eq_t, t)[0]\n",
        "\n",
        "print('q(t)   =', q_t)\n",
        "print('Np(t)  =', sp.simplify(Np_t))\n",
        "print('t(q_targ) =', sp.simplify(t_solution))\n",
        "\n",
        "# Numeric example and plot (no explicit colors/styles)\n",
        "q0_val = 500.0   # STB/day\n",
        "D_val  = 0.001   # 1/day\n",
        "q_targ_val = 200.0\n",
        "\n",
        "# Lambdify for plotting\n",
        "q_np  = sp.lambdify((t, q0, D), q_t, 'numpy')\n",
        "Np_np = sp.lambdify((t, q0, D), Np_t, 'numpy')\n",
        "\n",
        "T = np.linspace(0.0, 5000.0, 300)\n",
        "Q = q_np(T, q0_val, D_val)\n",
        "NP = Np_np(T, q0_val, D_val)\n",
        "\n",
        "plt.figure()\n",
        "plt.plot(T, Q)\n",
        "plt.title('Exponential decline: q(t)')\n",
        "plt.xlabel('t [days]')\n",
        "plt.ylabel('q(t) [STB/day]')\n",
        "plt.grid(True)\n",
        "plt.show()\n",
        "\n",
        "plt.figure()\n",
        "plt.plot(T, NP)\n",
        "plt.title('Cumulative production: Np(t)')\n",
        "plt.xlabel('t [days]')\n",
        "plt.ylabel('Np(t) [STB]')\n",
        "plt.grid(True)\n",
        "plt.show()\n",
        "\n",
        "# Compute time to target rate\n",
        "t_to_target = sp.N(t_solution.subs({q0:q0_val, D:D_val, q_targ:q_targ_val}))\n",
        "print('Time to reach q_targ =', float(t_to_target), 'days')\n"
      ],
      "id": "KNjBjGJyn2ck"
    },
    {
      "cell_type": "markdown",
      "metadata": {
        "id": "19M4lx2Wn2ck"
      },
      "source": [
        "### 2) Escoamento radial (Lei de Darcy) 🧵\n",
        "Em regime permanente incompressível, a vazão em poço radial pode ser aproximada por:\n",
        "$$ q = \\frac{2\\pi k h}{\\mu B}\\,\\frac{p_e - p_{wf}}{\\ln\\!\\left(\\frac{r_e}{r_w}\\right) + s}. $$\n",
        "Podemos **isolar $k$** ou **$p_{wf}$** simbolicamente.\n"
      ],
      "id": "19M4lx2Wn2ck"
    },
    {
      "cell_type": "code",
      "metadata": {
        "colab": {
          "base_uri": "https://localhost:8080/"
        },
        "id": "qQdDHIfRn2ck",
        "outputId": "adac22f8-5918-4721-b2f9-b6153b2eff61"
      },
      "execution_count": 19,
      "outputs": [
        {
          "output_type": "stream",
          "name": "stdout",
          "text": [
            "k isolated =\n",
            "      ⎛       ⎛rₑ ⎞⎞\n",
            "B⋅μ⋅q⋅⎜s + log⎜───⎟⎟\n",
            "      ⎝       ⎝r_w⎠⎠\n",
            "────────────────────\n",
            " 2⋅π⋅h⋅(pₑ - p_wf)  \n",
            "\n",
            "p_wf isolated =\n",
            "                           ⎛  B⋅μ⋅q    -B⋅μ⋅q⎞\n",
            "-B⋅μ⋅q⋅s + 2⋅π⋅h⋅k⋅pₑ - log⎝rₑ     ⋅r_w      ⎠\n",
            "──────────────────────────────────────────────\n",
            "                   2⋅π⋅h⋅k                    \n",
            "\n",
            "Example permeability k = 0.01961195589834746\n",
            "Example bottom-hole pressure p_wf = 2999.4116413230495 psi\n"
          ]
        }
      ],
      "source": [
        "# Radial Darcy flow with SymPy (comments in English)\n",
        "import sympy as sp\n",
        "\n",
        "# Declare symbols explicitly\n",
        "q, k, h, mu, B, p_e, p_wf, r_e, r_w, s = sp.symbols(\n",
        "    'q k h mu B p_e p_wf r_e r_w s', positive=True, real=True\n",
        ")\n",
        "\n",
        "# Define equation: q = (2*pi*k*h/(mu*B)) * ((p_e - p_wf)/(ln(r_e/r_w)+s))\n",
        "expr = (2*sp.pi*k*h/(mu*B)) * ((p_e - p_wf)/(sp.log(r_e/r_w) + s))\n",
        "eq = sp.Eq(q, expr)\n",
        "\n",
        "# Solve for k and p_wf\n",
        "k_expr = sp.solve(eq, k)[0]\n",
        "p_wf_expr = sp.solve(eq, p_wf)[0]\n",
        "\n",
        "print('k isolated =')\n",
        "sp.pprint(sp.simplify(k_expr))\n",
        "print('\\np_wf isolated =')\n",
        "sp.pprint(sp.simplify(p_wf_expr))\n",
        "\n",
        "# Numeric example (field units are illustrative; ensure consistency in real studies)\n",
        "subs_vals = {\n",
        "    q: 800.0,     # STB/day (use consistent unit system)\n",
        "    h: 50.0,      # ft\n",
        "    mu: 1.2,      # cP (treat as consistent unit)\n",
        "    B: 1.2,       # rb/STB\n",
        "    p_e: 3000.0,  # psi\n",
        "    r_e: 1000.0,  # ft\n",
        "    r_w: 0.328,   # ft (~4 in radius)\n",
        "    s: 0.0        # skin\n",
        "}\n",
        "\n",
        "# Compute k from chosen p_wf\n",
        "subs_vals_k = dict(subs_vals)\n",
        "subs_vals_k[p_wf] = 1500.0  # psi\n",
        "k_val = sp.N(k_expr.subs(subs_vals_k))\n",
        "print('\\nExample permeability k =', float(k_val))\n",
        "\n",
        "# Compute p_wf from chosen k\n",
        "subs_vals_pwf = dict(subs_vals)\n",
        "subs_vals_pwf[k] = 50.0  # md (illustrative)\n",
        "p_wf_val = sp.N(p_wf_expr.subs(subs_vals_pwf))\n",
        "print('Example bottom-hole pressure p_wf =', float(p_wf_val), 'psi')\n"
      ],
      "id": "qQdDHIfRn2ck"
    },
    {
      "cell_type": "markdown",
      "metadata": {
        "id": "1mUxnRuon2ck"
      },
      "source": [
        "**Exercícios finais 🧠**\n",
        "1. Para o declínio exponencial, ajuste $D$ para que $N_p(365\\,\\text{dias})$ atinja $100\\,000$ STB e plote $q(t)$.\n",
        "2. Na equação radial, considere um **skin** $s=2$ e avalie o impacto em $p_{wf}$ para $k=30$ md.\n"
      ],
      "id": "1mUxnRuon2ck"
    }
  ],
  "metadata": {
    "kernelspec": {
      "display_name": "Python 3",
      "language": "python",
      "name": "python3"
    },
    "language_info": {
      "name": "python",
      "version": "3.x"
    },
    "colab": {
      "provenance": [],
      "include_colab_link": true
    }
  },
  "nbformat": 4,
  "nbformat_minor": 5
}