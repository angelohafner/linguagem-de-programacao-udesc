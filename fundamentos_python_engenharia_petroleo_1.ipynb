{
  "cells": [
    {
      "cell_type": "markdown",
      "id": "726e53de",
      "metadata": {
        "id": "726e53de"
      },
      "source": [
        "# 🧱 Módulo 1: Fundamentos de Python\n",
        "\n",
        "Este tutorial cobre os fundamentos da linguagem Python, com foco em aplicações voltadas à engenharia."
      ]
    },
    {
      "cell_type": "markdown",
      "id": "ed72a4d6",
      "metadata": {
        "id": "ed72a4d6"
      },
      "source": [
        "## 📌 Aula 1 - Declaração de variáveis, tipos e operações\n",
        "\n",
        "Aqui vamos declarar as variáveis explicitamente com comentários de tipo, como se estivéssemos em uma linguagem fortemente tipada."
      ]
    },
    {
      "cell_type": "code",
      "execution_count": null,
      "id": "fda0ec92",
      "metadata": {
        "colab": {
          "base_uri": "https://localhost:8080/"
        },
        "id": "fda0ec92",
        "outputId": "e3011305-be92-49b7-8a67-7acc77cf8a6c"
      },
      "outputs": [
        {
          "output_type": "stream",
          "name": "stdout",
          "text": [
            "Well: Poco-01\n",
            "Pressure (psi): 2500\n",
            "Temperature (°C): 78.5\n",
            "Is producing? True\n"
          ]
        }
      ],
      "source": [
        "# Typed variable declarations\n",
        "pressure: int = 2500             # pressure in psi\n",
        "temperature: float = 78.5        # temperature in degrees Celsius\n",
        "well_name: str = \"Poco-01\"       # well name\n",
        "producing: bool = True           # production status\n",
        "\n",
        "# Output\n",
        "print(\"Well:\", well_name)\n",
        "print(\"Pressure (psi):\", pressure)\n",
        "print(\"Temperature (°C):\", temperature)\n",
        "print(\"Is producing?\", producing)"
      ]
    },
    {
      "cell_type": "markdown",
      "id": "b1faa5d5",
      "metadata": {
        "id": "b1faa5d5"
      },
      "source": [
        "## 📌 Aula 2 - Operações matemáticas\n",
        "\n",
        "Exemplo: cálculo da energia interna de um gás ideal\n",
        "\n",
        "$$ U = \\frac{3}{2} nRT $$"
      ]
    },
    {
      "cell_type": "code",
      "execution_count": null,
      "id": "bc1df140",
      "metadata": {
        "colab": {
          "base_uri": "https://localhost:8080/"
        },
        "id": "bc1df140",
        "outputId": "d2bfa9f2-5146-46cd-e889-73e18c6f2e6b"
      },
      "outputs": [
        {
          "output_type": "stream",
          "name": "stdout",
          "text": [
            "Internal energy (J): 7482.6\n"
          ]
        }
      ],
      "source": [
        "# Constants and variables\n",
        "n: float = 2                  # number of moles\n",
        "R: float = 8.314              # gas constant in J/mol·K\n",
        "T: float = 300.0              # temperature in Kelvin\n",
        "\n",
        "# Equation\n",
        "U = (3 / 2) * n * R * T   # float: energia interna\n",
        "print(\"Internal energy (J):\", U)"
      ]
    },
    {
      "cell_type": "markdown",
      "id": "f95f6e19",
      "metadata": {
        "id": "f95f6e19"
      },
      "source": [
        "## 📌 Aula 3 - Condições: if, elif, else"
      ]
    },
    {
      "cell_type": "code",
      "execution_count": null,
      "id": "83e34c8e",
      "metadata": {
        "colab": {
          "base_uri": "https://localhost:8080/"
        },
        "id": "83e34c8e",
        "outputId": "4d725223-79e6-468b-e823-979a1595b82f"
      },
      "outputs": [
        {
          "output_type": "stream",
          "name": "stdout",
          "text": [
            "Baixa pressão\n"
          ]
        }
      ],
      "source": [
        "# int: pressão medida no poço\n",
        "pressure: float = 900.0       # pressure in psi\n",
        "\n",
        "# Classification logic\n",
        "if pressure > 2000:\n",
        "    print(\"Alta pressão\")\n",
        "elif pressure > 1000:\n",
        "    print(\"Pressão média\")\n",
        "else:\n",
        "    print(\"Baixa pressão\")"
      ]
    },
    {
      "cell_type": "markdown",
      "id": "1075864f",
      "metadata": {
        "id": "1075864f"
      },
      "source": [
        "## 📌 Aula 4 - Laços de repetição\n",
        "\n",
        "### 🔁 Exemplo 1: `for` para processar lista de temperaturas"
      ]
    },
    {
      "cell_type": "code",
      "execution_count": null,
      "id": "24886ca2",
      "metadata": {
        "colab": {
          "base_uri": "https://localhost:8080/"
        },
        "id": "24886ca2",
        "outputId": "7a7bd1f8-7a33-4285-d604-11fc9242485c"
      },
      "outputs": [
        {
          "output_type": "stream",
          "name": "stdout",
          "text": [
            "Temp (°F): 86.0\n",
            "Temp (°F): 113.0\n",
            "Temp (°F): 140.0\n",
            "Temp (°F): 194.0\n"
          ]
        }
      ],
      "source": [
        "# list of float: temperaturas em °C\n",
        "temps_celsius: list[int] = [30, 45, 60, 90]   # temperatures in Celsius\n",
        "\n",
        "for temp in temps_celsius:\n",
        "    temp_f = temp * 9 / 5 + 32   # conversão °C → °F\n",
        "    print(\"Temp (°F):\", temp_f)"
      ]
    },
    {
      "cell_type": "markdown",
      "id": "67314538",
      "metadata": {
        "id": "67314538"
      },
      "source": [
        "### 🔁 Exemplo 2: `while` para simular queda de pressão"
      ]
    },
    {
      "cell_type": "code",
      "execution_count": null,
      "id": "86468005",
      "metadata": {
        "colab": {
          "base_uri": "https://localhost:8080/"
        },
        "id": "86468005",
        "outputId": "87132255-b870-4335-b1b4-96c94edaebb9"
      },
      "outputs": [
        {
          "output_type": "stream",
          "name": "stdout",
          "text": [
            "t = 0 dias → P = 5000 psi\n",
            "t = 1 dias → P = 4750 psi\n",
            "t = 2 dias → P = 4500 psi\n",
            "t = 3 dias → P = 4250 psi\n",
            "t = 4 dias → P = 4000 psi\n",
            "t = 5 dias → P = 3750 psi\n",
            "t = 6 dias → P = 3500 psi\n",
            "t = 7 dias → P = 3250 psi\n"
          ]
        }
      ],
      "source": [
        "pressure: int = 5000    # initial pressure in psi\n",
        "time: int = 0           # time in days\n",
        "\n",
        "while pressure > 3000:\n",
        "    print(\"t =\", time, \"dias → P =\", pressure, \"psi\")\n",
        "    pressure = pressure - 250\n",
        "    time = time + 1"
      ]
    },
    {
      "cell_type": "markdown",
      "id": "8feb0063",
      "metadata": {
        "id": "8feb0063"
      },
      "source": [
        "## 📌 Aula 5 - Funções definidas pelo usuário"
      ]
    },
    {
      "cell_type": "code",
      "execution_count": null,
      "id": "2f97fb60",
      "metadata": {
        "colab": {
          "base_uri": "https://localhost:8080/"
        },
        "id": "2f97fb60",
        "outputId": "02c95416-0d3b-444c-db98-9dc4df00bef9"
      },
      "outputs": [
        {
          "output_type": "stream",
          "name": "stdout",
          "text": [
            "Original Oil in Place (m³): 4000000.0\n"
          ]
        }
      ],
      "source": [
        "# Function to estimate original oil in place (OOIP)\n",
        "def oil_volume(area_km2: float, thickness_m: float, porosity: float, saturation: float, formation_vol_factor: float) -> float:\n",
        "    # float: area in m²\n",
        "    area_m2: float = area_km2 * 1e6\n",
        "    # float: estimated volume in m³\n",
        "    volume: float = area_m2 * thickness_m * porosity * saturation / formation_vol_factor\n",
        "    return volume\n",
        "\n",
        "# Example usage\n",
        "Vo: float = oil_volume(1.2, 20, 0.25, 0.8, 1.2)\n",
        "print(\"Original Oil in Place (m³):\", Vo)\n"
      ]
    },
    {
      "cell_type": "markdown",
      "id": "7ad34510",
      "metadata": {
        "id": "7ad34510"
      },
      "source": [
        "## 📌 Aula 6 - Listas e dicionários"
      ]
    },
    {
      "cell_type": "code",
      "execution_count": null,
      "id": "65662432",
      "metadata": {
        "colab": {
          "base_uri": "https://localhost:8080/"
        },
        "id": "65662432",
        "outputId": "eebde636-a7f3-4b47-a0c0-fbed11ec9c74"
      },
      "outputs": [
        {
          "output_type": "stream",
          "name": "stdout",
          "text": [
            "Ativo: Poco-01\n",
            "Ativo: Poco-02\n",
            "Ativo: Poco-03\n"
          ]
        }
      ],
      "source": [
        "# list of str: well names\n",
        "wells: list[str] = [\"Poco-01\", \"Poco-02\", \"Poco-03\"]\n",
        "\n",
        "for well in wells:\n",
        "    print(\"Ativo:\", well)"
      ]
    },
    {
      "cell_type": "code",
      "execution_count": null,
      "id": "ae96ac26",
      "metadata": {
        "colab": {
          "base_uri": "https://localhost:8080/"
        },
        "id": "ae96ac26",
        "outputId": "b6f5f0d5-b089-4e40-da56-acafecc7606f"
      },
      "outputs": [
        {
          "output_type": "stream",
          "name": "stdout",
          "text": [
            "Nome: Poco-01\n",
            "Pressão: 3450\n"
          ]
        }
      ],
      "source": [
        "# dict: technical data of a well\n",
        "well_data: dict[str, str | int | float | bool] = {\n",
        "    \"nome\": \"Poco-01\",\n",
        "    \"pressao\": 3450,          # psi\n",
        "    \"temperatura\": 85.0,      # °C\n",
        "    \"producao_ativa\": True\n",
        "}\n",
        "\n",
        "print(\"Nome:\", well_data[\"nome\"])\n",
        "print(\"Pressão:\", well_data[\"pressao\"])\n"
      ]
    },
    {
      "cell_type": "markdown",
      "id": "ae5fe624",
      "metadata": {
        "id": "ae5fe624"
      },
      "source": [
        "## 📌 Aula 7 - Leitura de dados com pandas"
      ]
    },
    {
      "cell_type": "code",
      "execution_count": null,
      "id": "052ae603",
      "metadata": {
        "colab": {
          "base_uri": "https://localhost:8080/"
        },
        "id": "052ae603",
        "outputId": "e9a1b693-a3de-46f2-ce58-072d4b38e37e"
      },
      "outputs": [
        {
          "output_type": "stream",
          "name": "stdout",
          "text": [
            "   dia  vazao_oleo\n",
            "0    1         120\n",
            "1    2         118\n",
            "2    3         115\n",
            "3    4         113\n",
            "4    5         110\n"
          ]
        }
      ],
      "source": [
        "import pandas as pd\n",
        "\n",
        "# Simulated production data\n",
        "data: dict[str, list[int]] = {\"dia\": [1, 2, 3, 4, 5], \"vazao_oleo\": [120, 118, 115, 113, 110]}\n",
        "\n",
        "df: pd.DataFrame = pd.DataFrame(data)\n",
        "print(df)"
      ]
    },
    {
      "cell_type": "markdown",
      "id": "d4894a4a",
      "metadata": {
        "id": "d4894a4a"
      },
      "source": [
        "## 🧪 Desafio final\n",
        "\n",
        "Crie uma função para calcular o volume de gás em um reservatório:\n",
        "\n",
        "$$ V_g = \\frac{A \\cdot h \\cdot \\phi \\cdot (1 - S_w)}{B_g} $$\n",
        "\n",
        "Use dados fictícios para testar:\n",
        "- $$A = 2.5 \\ \\text{km}^2$$\n",
        "- $$h = 15 \\ \\text{m}$$\n",
        "- $$\\phi = 0.18$$\n",
        "- $$S_w = 0.25$$\n",
        "- $$B_g = 0.005 \\ \\text{m}^3/\\text{m}^3$$"
      ]
    }
  ],
  "metadata": {
    "colab": {
      "provenance": []
    },
    "language_info": {
      "name": "python"
    },
    "kernelspec": {
      "name": "python3",
      "display_name": "Python 3"
    }
  },
  "nbformat": 4,
  "nbformat_minor": 5
}