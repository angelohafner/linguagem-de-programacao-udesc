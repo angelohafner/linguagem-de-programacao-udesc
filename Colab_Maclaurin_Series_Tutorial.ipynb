{
  "cells": [
    {
      "cell_type": "markdown",
      "metadata": {
        "id": "view-in-github",
        "colab_type": "text"
      },
      "source": [
        "<a href=\"https://colab.research.google.com/github/angelohafner/linguagem-de-programacao-udesc/blob/main/Colab_Maclaurin_Series_Tutorial.ipynb\" target=\"_parent\"><img src=\"https://colab.research.google.com/assets/colab-badge.svg\" alt=\"Open In Colab\"/></a>"
      ]
    },
    {
      "cell_type": "markdown",
      "id": "b1933e4a",
      "metadata": {
        "id": "b1933e4a"
      },
      "source": [
        "# Série de Maclaurin no Colab 🎓🧮 (divertido e visual)\n",
        "\n",
        "Bem-vindo(a)! Neste tutorial vamos **aprender e visualizar** como funcionam as **séries de Maclaurin** usando Python, com exemplos práticos e **widgets interativos**.  \n",
        "Você vai:\n",
        "- 📘 Entender o que é uma série de Maclaurin e por que ela aparece tanto na **física** e na **engenharia**;\n",
        "- ✍️ Ver **exemplos passo a passo** usando `sympy` e `math`;\n",
        "- 📊 Comparar a **função original** com as **aproximações por série**;\n",
        "- 🎮 Brincar com **widgets** para escolher o valor de `x` e o **número de termos** `N`;\n",
        "- 💡 Calcular somatórios clássicos: `exp`, `cos`, `sen`;\n",
        "- 🚀 Resolver **desafios** finais (como `ln(1+x)` e `atan(x)`).\n",
        "\n",
        "> Dica: Execute as células na ordem. Ajuste os sliders e observe como a aproximação melhora quando aumentamos o número de termos! 😄\n"
      ]
    },
    {
      "cell_type": "markdown",
      "id": "2db8bc57",
      "metadata": {
        "id": "2db8bc57"
      },
      "source": [
        "## 1) O que é série de Maclaurin? 🤔\n",
        "\n",
        "Uma **série de Maclaurin** é um caso particular da série de Taylor **em torno de 0**.  \n",
        "Se \\(f\\) é infinitamente diferenciável em 0, então:\n",
        "\\[\n",
        "f(x) = \\sum_{n=0}^{\\infty} \\frac{f^{(n)}(0)}{n!}\\, x^n\n",
        "\\]\n",
        "\n",
        "**Onde aparece?**  \n",
        "- Física: aproximações de soluções de EDOs, oscilações, óptica, mecânica quântica.  \n",
        "- Engenharia: análise de sinais, controle (resposta de sistemas), eletrônica (aprox. exponenciais), numérico (lin. e não linearidades).\n",
        "\n",
        "**Ideia-chave:** usar **poucos termos** perto de \\(x=0\\) para aproximar funções difíceis de calcular diretamente.\n"
      ]
    },
    {
      "cell_type": "code",
      "execution_count": 1,
      "id": "ceed77a3",
      "metadata": {
        "colab": {
          "base_uri": "https://localhost:8080/"
        },
        "id": "ceed77a3",
        "outputId": "6fa850ca-8606-4b88-ece7-11843949f06a"
      },
      "outputs": [
        {
          "output_type": "stream",
          "name": "stdout",
          "text": [
            "Ready! Sympy, numpy, matplotlib, ipywidgets imported.\n"
          ]
        }
      ],
      "source": [
        "# Setup (Colab-ready)\n",
        "# Comments are in English (ASCII only).\n",
        "import math\n",
        "import numpy as np\n",
        "import matplotlib.pyplot as plt\n",
        "import sympy as sp\n",
        "from ipywidgets import interact, FloatSlider, IntSlider, fixed\n",
        "\n",
        "sp.init_printing()  # pretty printing for sympy\n",
        "\n",
        "print(\"Ready! Sympy, numpy, matplotlib, ipywidgets imported.\")\n"
      ]
    },
    {
      "cell_type": "markdown",
      "id": "4b054dcd",
      "metadata": {
        "id": "4b054dcd"
      },
      "source": [
        "## 2) Demonstração simbólica com Sympy ✍️\n",
        "\n",
        "Vamos pedir à `sympy` as primeiras expansões de Maclaurin para `exp(x)`, `cos(x)` e `sin(x)`.\n"
      ]
    },
    {
      "cell_type": "code",
      "execution_count": 2,
      "id": "dbf67008",
      "metadata": {
        "colab": {
          "base_uri": "https://localhost:8080/",
          "height": 181
        },
        "id": "dbf67008",
        "outputId": "494ef4f8-73f7-4e08-aa7f-4705c9702fee"
      },
      "outputs": [
        {
          "output_type": "stream",
          "name": "stdout",
          "text": [
            "exp(x) Maclaurin up to x^7:\n"
          ]
        },
        {
          "output_type": "display_data",
          "data": {
            "text/plain": [
              "         2    3    4    5     6      7         \n",
              "        x    x    x    x     x      x      ⎛ 8⎞\n",
              "1 + x + ── + ── + ── + ─── + ─── + ──── + O⎝x ⎠\n",
              "        2    6    24   120   720   5040        "
            ],
            "text/latex": "$\\displaystyle 1 + x + \\frac{x^{2}}{2} + \\frac{x^{3}}{6} + \\frac{x^{4}}{24} + \\frac{x^{5}}{120} + \\frac{x^{6}}{720} + \\frac{x^{7}}{5040} + O\\left(x^{8}\\right)$"
          },
          "metadata": {}
        },
        {
          "output_type": "stream",
          "name": "stdout",
          "text": [
            "cos(x) Maclaurin up to x^9:\n"
          ]
        },
        {
          "output_type": "display_data",
          "data": {
            "text/plain": [
              "     2    4    6      8           \n",
              "    x    x    x      x       ⎛ 10⎞\n",
              "1 - ── + ── - ─── + ───── + O⎝x  ⎠\n",
              "    2    24   720   40320         "
            ],
            "text/latex": "$\\displaystyle 1 - \\frac{x^{2}}{2} + \\frac{x^{4}}{24} - \\frac{x^{6}}{720} + \\frac{x^{8}}{40320} + O\\left(x^{10}\\right)$"
          },
          "metadata": {}
        },
        {
          "output_type": "stream",
          "name": "stdout",
          "text": [
            "sin(x) Maclaurin up to x^8:\n"
          ]
        },
        {
          "output_type": "display_data",
          "data": {
            "text/plain": [
              "     3    5      7         \n",
              "    x    x      x      ⎛ 9⎞\n",
              "x - ── + ─── - ──── + O⎝x ⎠\n",
              "    6    120   5040        "
            ],
            "text/latex": "$\\displaystyle x - \\frac{x^{3}}{6} + \\frac{x^{5}}{120} - \\frac{x^{7}}{5040} + O\\left(x^{9}\\right)$"
          },
          "metadata": {}
        }
      ],
      "source": [
        "# Symbolic series using sympy\n",
        "x = sp.Symbol('x')\n",
        "\n",
        "exp_series = sp.series(sp.exp(x), x, 0, 8)   # up to x^7\n",
        "cos_series = sp.series(sp.cos(x), x, 0, 10)  # up to x^9\n",
        "sin_series = sp.series(sp.sin(x), x, 0, 9)   # up to x^8\n",
        "\n",
        "print(\"exp(x) Maclaurin up to x^7:\")\n",
        "display(exp_series)\n",
        "print(\"cos(x) Maclaurin up to x^9:\")\n",
        "display(cos_series)\n",
        "print(\"sin(x) Maclaurin up to x^8:\")\n",
        "display(sin_series)\n"
      ]
    },
    {
      "cell_type": "markdown",
      "id": "76a51d75",
      "metadata": {
        "id": "76a51d75"
      },
      "source": [
        "## 3) Construindo as somas parciais (passo a passo) 🧱\n",
        "\n",
        "Abaixo, definimos funções para calcular as **somas parciais** (com `math`) e comparar com o valor exato (`math.exp`, `math.cos`, `math.sin`).  \n",
        "Também medimos o **erro absoluto** no ponto escolhido.\n"
      ]
    },
    {
      "cell_type": "code",
      "execution_count": 8,
      "id": "fc09b6d6",
      "metadata": {
        "id": "fc09b6d6"
      },
      "outputs": [],
      "source": [
        "# Partial sums and utilities (math-based)\n",
        "# All comments in English ASCII only.\n",
        "\n",
        "def maclaurin_exp_partial(xval, N):\n",
        "    # Compute partial sum S_N for exp(x) = sum_{n=0..N} x^n/n!\n",
        "    total = 0.0\n",
        "    n = 0\n",
        "    while n <= N:\n",
        "        term = (xval ** n) / math.factorial(n)\n",
        "        total = total + term\n",
        "        n = n + 1\n",
        "    return total\n",
        "\n",
        "def maclaurin_cos_partial(xval, N):\n",
        "    # Compute partial sum S_N for cos(x) = sum_{n=0..N} (-1)^n x^(2n)/(2n)!\n",
        "    total = 0.0\n",
        "    n = 0\n",
        "    while n <= N:\n",
        "        term = ((-1.0) ** n) * (xval ** (2 * n)) / math.factorial(2 * n)\n",
        "        total = total + term\n",
        "        n = n + 1\n",
        "    return total\n",
        "\n",
        "def maclaurin_sin_partial(xval, N):\n",
        "    # Compute partial sum S_N for sin(x) = sum_{n=0..N} (-1)^n x^(2n+1)/(2n+1)!\n",
        "    total = 0.0\n",
        "    n = 0\n",
        "    while n <= N:\n",
        "        term = ((-1.0) ** n) * (xval ** (2 * n + 1)) / math.factorial(2 * n + 1)\n",
        "        total = total + term\n",
        "        n = n + 1\n",
        "    return total\n",
        "\n",
        "def plot_function_vs_partial(func_name, x_select, N, x_min, x_max):\n",
        "    # Plot the true function vs Maclaurin partial sum on a single chart.\n",
        "    xs = np.linspace(x_min, x_max, 800)\n",
        "\n",
        "    if func_name == 'exp':\n",
        "        y_true = np.exp(xs)\n",
        "        y_approx = np.zeros_like(xs)\n",
        "        i = 0\n",
        "        while i < xs.size:\n",
        "            y_approx[i] = maclaurin_exp_partial(xs[i], N)\n",
        "            i = i + 1\n",
        "        y_true_sel = math.exp(x_select)\n",
        "        y_approx_sel = maclaurin_exp_partial(x_select, N)\n",
        "        title = \"exp(x)\"\n",
        "    elif func_name == 'cos':\n",
        "        y_true = np.cos(xs)\n",
        "        y_approx = np.zeros_like(xs)\n",
        "        i = 0\n",
        "        while i < xs.size:\n",
        "            y_approx[i] = maclaurin_cos_partial(xs[i], N)\n",
        "            i = i + 1\n",
        "        y_true_sel = math.cos(x_select)\n",
        "        y_approx_sel = maclaurin_cos_partial(x_select, N)\n",
        "        title = \"cos(x)\"\n",
        "    else:\n",
        "        y_true = np.sin(xs)\n",
        "        y_approx = np.zeros_like(xs)\n",
        "        i = 0\n",
        "        while i < xs.size:\n",
        "            y_approx[i] = maclaurin_sin_partial(xs[i], N)\n",
        "            i = i + 1\n",
        "        y_true_sel = math.sin(x_select)\n",
        "        y_approx_sel = maclaurin_sin_partial(x_select, N)\n",
        "        title = \"sin(x)\"\n",
        "\n",
        "    err = abs(y_true_sel - y_approx_sel)\n",
        "\n",
        "    plt.figure()\n",
        "    plt.plot(xs, y_true, label=\"true function\")\n",
        "    plt.plot(xs, y_approx, linestyle=\"--\", label=f\"Maclaurin partial (N={N})\")\n",
        "    plt.axvline(x_select, linestyle=\":\", linewidth=1)\n",
        "    plt.axhline(0, linewidth=1)\n",
        "    plt.axvline(0, linewidth=1)\n",
        "    plt.grid(True)\n",
        "    plt.title(f\"{title} vs Maclaurin (error at x={x_select:.2f} is {err:.2e})\")\n",
        "    plt.legend()\n",
        "    plt.show()\n"
      ]
    },
    {
      "cell_type": "markdown",
      "id": "58272f6d",
      "metadata": {
        "id": "58272f6d"
      },
      "source": [
        "## 4) Interativo: `exp(x)` 🚀\n",
        "\n",
        "A série de Maclaurin de `exp(x)` é:\n",
        "\\[\n",
        "\\sum_{n=0}^{\\infty} \\frac{x^n}{n!}\n",
        "\\]\n",
        "\n",
        "Mova os sliders para escolher `x` e o número de termos `N`. Observe o erro indicado no título.\n"
      ]
    },
    {
      "cell_type": "code",
      "execution_count": 4,
      "id": "265b4b22",
      "metadata": {
        "colab": {
          "base_uri": "https://localhost:8080/",
          "height": 516,
          "referenced_widgets": [
            "02bd107245604dfc8a7136731ae67059",
            "c4539ef2368c431cb312b37c6b659beb",
            "0f0fa9b7ca5144db87790f587096ae63",
            "7f991318f06c43ea83b3ab5faeb99555",
            "0b53237c2294498db53e84ba1b195449",
            "4d0e3c34d5644d5c83639333939743d0",
            "a68e09ec1b3247cc88e0352560eb4f29",
            "17c40b502ea842de9c73734aaaf561db",
            "eeade160e5a74bbb94b0e5d67c848bc9",
            "7da4a755b47c45f0b60151faaba8bd2f"
          ]
        },
        "id": "265b4b22",
        "outputId": "a5faf5d8-c691-4d4f-d931-d1933f906fb2"
      },
      "outputs": [
        {
          "output_type": "display_data",
          "data": {
            "text/plain": [
              "interactive(children=(FloatSlider(value=1.0, description='x', max=5.0, min=-5.0), IntSlider(value=5, descripti…"
            ],
            "application/vnd.jupyter.widget-view+json": {
              "version_major": 2,
              "version_minor": 0,
              "model_id": "02bd107245604dfc8a7136731ae67059"
            }
          },
          "metadata": {}
        }
      ],
      "source": [
        "# Interactive exp\n",
        "@interact(\n",
        "    x_select=FloatSlider(value=1.0, min=-5.0, max=5.0, step=0.1, description=\"x\"),\n",
        "    N=IntSlider(value=5, min=0, max=30, step=1, description=\"N\")\n",
        ")\n",
        "def interactive_exp(x_select, N):\n",
        "    plot_function_vs_partial('exp', x_select, N, -5.0, 5.0)\n"
      ]
    },
    {
      "cell_type": "markdown",
      "id": "c7b720a0",
      "metadata": {
        "id": "c7b720a0"
      },
      "source": [
        "## 5) Interativo: `cos(x)` 🌊 (parte par)\n",
        "\n",
        "A série de Maclaurin de `cos(x)` é:\n",
        "\\[\n",
        "\\sum_{n=0}^{\\infty} \\frac{(-1)^n x^{2n}}{(2n)!}\n",
        "\\]\n",
        "\n",
        "Explore como as **potências pares** aparecem e como o sinal alterna.\n"
      ]
    },
    {
      "cell_type": "code",
      "execution_count": 5,
      "id": "0a35882d",
      "metadata": {
        "colab": {
          "base_uri": "https://localhost:8080/",
          "height": 516,
          "referenced_widgets": [
            "9781d08e07224d25ab5eb808879ab1a4",
            "1448be20808e4634a994432518bc47e0",
            "49f3f98a6c70488ba606abb0ecb100e6",
            "a9c95f2678e24112ba13a35d65510e8c",
            "b0404f8dc30d411492bdf9b76b8fb1d1",
            "4252ffdfa2334f169cb23e42fddabe88",
            "10acb4eb2b6347e5bc64c3740abd22e0",
            "551bdf512db6443a973607d70f424619",
            "e5d5a9262bc7470b86700d3a9d558712",
            "6406d865a5d34759a16a59caad8a27d8"
          ]
        },
        "id": "0a35882d",
        "outputId": "19738c31-0591-4df1-f1eb-290bb3e64e60"
      },
      "outputs": [
        {
          "output_type": "display_data",
          "data": {
            "text/plain": [
              "interactive(children=(FloatSlider(value=1.0, description='x', max=5.0, min=-5.0), IntSlider(value=5, descripti…"
            ],
            "application/vnd.jupyter.widget-view+json": {
              "version_major": 2,
              "version_minor": 0,
              "model_id": "9781d08e07224d25ab5eb808879ab1a4"
            }
          },
          "metadata": {}
        }
      ],
      "source": [
        "# Interactive cos\n",
        "@interact(\n",
        "    x_select=FloatSlider(value=1.0, min=-5.0, max=5.0, step=0.1, description=\"x\"),\n",
        "    N=IntSlider(value=5, min=0, max=30, step=1, description=\"N\")\n",
        ")\n",
        "def interactive_cos(x_select, N):\n",
        "    plot_function_vs_partial('cos', x_select, N, -5.0, 5.0)\n"
      ]
    },
    {
      "cell_type": "markdown",
      "id": "81bf8318",
      "metadata": {
        "id": "81bf8318"
      },
      "source": [
        "## 6) Interativo: `sin(x)` 🌊 (parte ímpar)\n",
        "\n",
        "A série de Maclaurin de `sin(x)` é:\n",
        "\\[\n",
        "\\sum_{n=0}^{\\infty} \\frac{(-1)^n x^{2n+1}}{(2n+1)!}\n",
        "\\]\n",
        "\n",
        "Note como somente **potências ímpares** aparecem.\n"
      ]
    },
    {
      "cell_type": "code",
      "execution_count": 6,
      "id": "23c1b2d0",
      "metadata": {
        "colab": {
          "base_uri": "https://localhost:8080/",
          "height": 516,
          "referenced_widgets": [
            "7f21f3748e0647d98d4e1a4e9c4571b6",
            "391502c15e08419fbae5e8fa509f1f1f",
            "36ffb7f02acf45b7ba9896e3df3419dc",
            "efb1fd392e24410fa39b9b783c90c7d3",
            "889c39a6d01d407bb3d8e2ff66f61b5b",
            "c680d548e4f249669175ed364a227c0e",
            "4ab7e09556f345c3b4e58b7afd53b02c",
            "be1e5dd683be4002bd8c5f69351a2c46",
            "d41796789e514482b2e7dd898d7f45a8",
            "a7a9848b7a4e4cb68fe754183a9ad8fc"
          ]
        },
        "id": "23c1b2d0",
        "outputId": "580de62f-8c2f-4b7d-ba83-5645bb765c96"
      },
      "outputs": [
        {
          "output_type": "display_data",
          "data": {
            "text/plain": [
              "interactive(children=(FloatSlider(value=1.0, description='x', max=5.0, min=-5.0), IntSlider(value=5, descripti…"
            ],
            "application/vnd.jupyter.widget-view+json": {
              "version_major": 2,
              "version_minor": 0,
              "model_id": "7f21f3748e0647d98d4e1a4e9c4571b6"
            }
          },
          "metadata": {}
        }
      ],
      "source": [
        "# Interactive sin\n",
        "@interact(\n",
        "    x_select=FloatSlider(value=1.0, min=-5.0, max=5.0, step=0.1, description=\"x\"),\n",
        "    N=IntSlider(value=5, min=0, max=30, step=1, description=\"N\")\n",
        ")\n",
        "def interactive_sin(x_select, N):\n",
        "    plot_function_vs_partial('sin', x_select, N, -5.0, 5.0)\n"
      ]
    },
    {
      "cell_type": "markdown",
      "id": "97e4453a",
      "metadata": {
        "id": "97e4453a"
      },
      "source": [
        "## 7) Conferindo os somatórios clássicos 💡\n",
        "\n",
        "Vamos calcular numericamente os somatórios **no ponto x escolhido** e comparar com `math.exp`, `math.cos`, `math.sin`.\n"
      ]
    },
    {
      "cell_type": "code",
      "execution_count": 7,
      "id": "b1047e7e",
      "metadata": {
        "colab": {
          "base_uri": "https://localhost:8080/",
          "height": 278,
          "referenced_widgets": [
            "6f8f6fe6140e40bb9261564c7e4a225b",
            "c18027df91a0476fbc2113c29fbdb0dc",
            "6990fca59b764b5291fc3f9375bb8edc",
            "a20e261f13f343c8a942e9e59ef1a14c",
            "030abe8cffb847a2aa37aed60127d412",
            "b06001d4762f461b8b3a7e35124936bd",
            "a6f4a750bafc458688071f35a71b6459",
            "72c7d58da61747caaa60b675a5aac32b",
            "47bea26eb04a478b9965eac6801d9e48",
            "3dc5904bec6c4c098353e14aa049c0ae"
          ]
        },
        "id": "b1047e7e",
        "outputId": "2a6bc6bb-0597-4b71-b65f-830dfe900681"
      },
      "outputs": [
        {
          "output_type": "display_data",
          "data": {
            "text/plain": [
              "interactive(children=(FloatSlider(value=1.0, description='x', max=4.0, min=-4.0), IntSlider(value=10, descript…"
            ],
            "application/vnd.jupyter.widget-view+json": {
              "version_major": 2,
              "version_minor": 0,
              "model_id": "6f8f6fe6140e40bb9261564c7e4a225b"
            }
          },
          "metadata": {}
        }
      ],
      "source": [
        "# Numeric check at a single x\n",
        "# User picks x and N_max; we show the partial sums and the true values.\n",
        "@interact(\n",
        "    xval=FloatSlider(value=1.0, min=-4.0, max=4.0, step=0.1, description=\"x\"),\n",
        "    Nmax=IntSlider(value=10, min=1, max=50, step=1, description=\"N_max\")\n",
        ")\n",
        "def check_summations(xval, Nmax):\n",
        "    s_exp = maclaurin_exp_partial(xval, Nmax)\n",
        "    s_cos = maclaurin_cos_partial(xval, Nmax)\n",
        "    s_sin = maclaurin_sin_partial(xval, Nmax)\n",
        "\n",
        "    true_exp = math.exp(xval)\n",
        "    true_cos = math.cos(xval)\n",
        "    true_sin = math.sin(xval)\n",
        "\n",
        "    err_exp = abs(true_exp - s_exp)\n",
        "    err_cos = abs(true_cos - s_cos)\n",
        "    err_sin = abs(true_sin - s_sin)\n",
        "\n",
        "    print(f\"exp series partial (N={Nmax}) at x={xval:.3f} = {s_exp:.12f}\")\n",
        "    print(f\"math.exp(x)                        = {true_exp:.12f}\")\n",
        "    print(f\"abs error                          = {err_exp:.3e}\\n\")\n",
        "\n",
        "    print(f\"cos series partial (N={Nmax}) at x={xval:.3f} = {s_cos:.12f}\")\n",
        "    print(f\"math.cos(x)                        = {true_cos:.12f}\")\n",
        "    print(f\"abs error                          = {err_cos:.3e}\\n\")\n",
        "\n",
        "    print(f\"sin series partial (N={Nmax}) at x={xval:.3f} = {s_sin:.12f}\")\n",
        "    print(f\"math.sin(x)                        = {true_sin:.12f}\")\n",
        "    print(f\"abs error                          = {err_sin:.3e}\")\n"
      ]
    },
    {
      "cell_type": "markdown",
      "id": "fdd26ce1",
      "metadata": {
        "id": "fdd26ce1"
      },
      "source": [
        "## 8) Nota aplicada ⚙️\n",
        "\n",
        "- **Controle/Engenharia elétrica:** exponenciais aparecem na resposta transitória de circuitos `RC/RL` e em funções de transferência.  \n",
        "- **Vibrações/ondas:** `sen` e `cos` descrevem soluções harmônicas; séries ajudam a aproximar soluções quando só temos termos próximos de \\(x=0\\).  \n",
        "- **Computação científica:** bibliotecas numéricas implementam `exp`, `sin`, `cos` com técnicas relacionadas a séries e polinômios aproximantes.\n"
      ]
    },
    {
      "cell_type": "markdown",
      "id": "301ac029",
      "metadata": {
        "id": "301ac029"
      },
      "source": [
        "# 9) Desafios finais 🚀\n",
        "\n",
        "Tente implementar as séries e gráficos **no mesmo formato** (com sliders `x` e `N`) para:\n",
        "\n",
        "1. **\\(\\ln(1+x)\\)** (para \\(|x|<1\\)):\n",
        "\\[\n",
        "\\ln(1+x) = \\sum_{n=1}^{\\infty} \\frac{(-1)^{n+1}}{n} x^n\n",
        "\\]\n",
        "   - Dica: verifique o **raio de convergência**.\n",
        "2. **\\(\\arctan(x)\\)** (para \\(|x|\\le 1\\), converge lentamente em \\(|x|=1\\)):\n",
        "\\[\n",
        "\\arctan(x) = \\sum_{n=0}^{\\infty} \\frac{(-1)^n}{2n+1} x^{2n+1}\n",
        "\\]\n",
        "3. **Geometria (revisão):** \\(\\frac{1}{1-x} = \\sum_{n=0}^{\\infty} x^n\\) para \\(|x|<1\\). Use isso para criar aproximações racionais simples.\n",
        "\n",
        "> Extra: Plote o **erro absoluto** em função de `N` para um `x` fixo e discuta a rapidez de convergência. 🎯\n"
      ]
    }
  ],
  "metadata": {
    "colab": {
      "provenance": [],
      "include_colab_link": true
    },
    "language_info": {
      "name": "python"
    },
    "kernelspec": {
      "name": "python3",
      "display_name": "Python 3"
    },
    "widgets": {
      "application/vnd.jupyter.widget-state+json": {
        "02bd107245604dfc8a7136731ae67059": {
          "model_module": "@jupyter-widgets/controls",
          "model_name": "VBoxModel",
          "model_module_version": "1.5.0",
          "state": {
            "_dom_classes": [
              "widget-interact"
            ],
            "_model_module": "@jupyter-widgets/controls",
            "_model_module_version": "1.5.0",
            "_model_name": "VBoxModel",
            "_view_count": null,
            "_view_module": "@jupyter-widgets/controls",
            "_view_module_version": "1.5.0",
            "_view_name": "VBoxView",
            "box_style": "",
            "children": [
              "IPY_MODEL_c4539ef2368c431cb312b37c6b659beb",
              "IPY_MODEL_0f0fa9b7ca5144db87790f587096ae63",
              "IPY_MODEL_7f991318f06c43ea83b3ab5faeb99555"
            ],
            "layout": "IPY_MODEL_0b53237c2294498db53e84ba1b195449"
          }
        },
        "c4539ef2368c431cb312b37c6b659beb": {
          "model_module": "@jupyter-widgets/controls",
          "model_name": "FloatSliderModel",
          "model_module_version": "1.5.0",
          "state": {
            "_dom_classes": [],
            "_model_module": "@jupyter-widgets/controls",
            "_model_module_version": "1.5.0",
            "_model_name": "FloatSliderModel",
            "_view_count": null,
            "_view_module": "@jupyter-widgets/controls",
            "_view_module_version": "1.5.0",
            "_view_name": "FloatSliderView",
            "continuous_update": true,
            "description": "x",
            "description_tooltip": null,
            "disabled": false,
            "layout": "IPY_MODEL_4d0e3c34d5644d5c83639333939743d0",
            "max": 5,
            "min": -5,
            "orientation": "horizontal",
            "readout": true,
            "readout_format": ".2f",
            "step": 0.1,
            "style": "IPY_MODEL_a68e09ec1b3247cc88e0352560eb4f29",
            "value": 4.3
          }
        },
        "0f0fa9b7ca5144db87790f587096ae63": {
          "model_module": "@jupyter-widgets/controls",
          "model_name": "IntSliderModel",
          "model_module_version": "1.5.0",
          "state": {
            "_dom_classes": [],
            "_model_module": "@jupyter-widgets/controls",
            "_model_module_version": "1.5.0",
            "_model_name": "IntSliderModel",
            "_view_count": null,
            "_view_module": "@jupyter-widgets/controls",
            "_view_module_version": "1.5.0",
            "_view_name": "IntSliderView",
            "continuous_update": true,
            "description": "N",
            "description_tooltip": null,
            "disabled": false,
            "layout": "IPY_MODEL_17c40b502ea842de9c73734aaaf561db",
            "max": 30,
            "min": 0,
            "orientation": "horizontal",
            "readout": true,
            "readout_format": "d",
            "step": 1,
            "style": "IPY_MODEL_eeade160e5a74bbb94b0e5d67c848bc9",
            "value": 9
          }
        },
        "7f991318f06c43ea83b3ab5faeb99555": {
          "model_module": "@jupyter-widgets/output",
          "model_name": "OutputModel",
          "model_module_version": "1.0.0",
          "state": {
            "_dom_classes": [],
            "_model_module": "@jupyter-widgets/output",
            "_model_module_version": "1.0.0",
            "_model_name": "OutputModel",
            "_view_count": null,
            "_view_module": "@jupyter-widgets/output",
            "_view_module_version": "1.0.0",
            "_view_name": "OutputView",
            "layout": "IPY_MODEL_7da4a755b47c45f0b60151faaba8bd2f",
            "msg_id": "",
            "outputs": [
              {
                "output_type": "display_data",
                "data": {
                  "text/plain": "<Figure size 640x480 with 1 Axes>",
                  "image/png": "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\n"
                },
                "metadata": {}
              }
            ]
          }
        },
        "0b53237c2294498db53e84ba1b195449": {
          "model_module": "@jupyter-widgets/base",
          "model_name": "LayoutModel",
          "model_module_version": "1.2.0",
          "state": {
            "_model_module": "@jupyter-widgets/base",
            "_model_module_version": "1.2.0",
            "_model_name": "LayoutModel",
            "_view_count": null,
            "_view_module": "@jupyter-widgets/base",
            "_view_module_version": "1.2.0",
            "_view_name": "LayoutView",
            "align_content": null,
            "align_items": null,
            "align_self": null,
            "border": null,
            "bottom": null,
            "display": null,
            "flex": null,
            "flex_flow": null,
            "grid_area": null,
            "grid_auto_columns": null,
            "grid_auto_flow": null,
            "grid_auto_rows": null,
            "grid_column": null,
            "grid_gap": null,
            "grid_row": null,
            "grid_template_areas": null,
            "grid_template_columns": null,
            "grid_template_rows": null,
            "height": null,
            "justify_content": null,
            "justify_items": null,
            "left": null,
            "margin": null,
            "max_height": null,
            "max_width": null,
            "min_height": null,
            "min_width": null,
            "object_fit": null,
            "object_position": null,
            "order": null,
            "overflow": null,
            "overflow_x": null,
            "overflow_y": null,
            "padding": null,
            "right": null,
            "top": null,
            "visibility": null,
            "width": null
          }
        },
        "4d0e3c34d5644d5c83639333939743d0": {
          "model_module": "@jupyter-widgets/base",
          "model_name": "LayoutModel",
          "model_module_version": "1.2.0",
          "state": {
            "_model_module": "@jupyter-widgets/base",
            "_model_module_version": "1.2.0",
            "_model_name": "LayoutModel",
            "_view_count": null,
            "_view_module": "@jupyter-widgets/base",
            "_view_module_version": "1.2.0",
            "_view_name": "LayoutView",
            "align_content": null,
            "align_items": null,
            "align_self": null,
            "border": null,
            "bottom": null,
            "display": null,
            "flex": null,
            "flex_flow": null,
            "grid_area": null,
            "grid_auto_columns": null,
            "grid_auto_flow": null,
            "grid_auto_rows": null,
            "grid_column": null,
            "grid_gap": null,
            "grid_row": null,
            "grid_template_areas": null,
            "grid_template_columns": null,
            "grid_template_rows": null,
            "height": null,
            "justify_content": null,
            "justify_items": null,
            "left": null,
            "margin": null,
            "max_height": null,
            "max_width": null,
            "min_height": null,
            "min_width": null,
            "object_fit": null,
            "object_position": null,
            "order": null,
            "overflow": null,
            "overflow_x": null,
            "overflow_y": null,
            "padding": null,
            "right": null,
            "top": null,
            "visibility": null,
            "width": null
          }
        },
        "a68e09ec1b3247cc88e0352560eb4f29": {
          "model_module": "@jupyter-widgets/controls",
          "model_name": "SliderStyleModel",
          "model_module_version": "1.5.0",
          "state": {
            "_model_module": "@jupyter-widgets/controls",
            "_model_module_version": "1.5.0",
            "_model_name": "SliderStyleModel",
            "_view_count": null,
            "_view_module": "@jupyter-widgets/base",
            "_view_module_version": "1.2.0",
            "_view_name": "StyleView",
            "description_width": "",
            "handle_color": null
          }
        },
        "17c40b502ea842de9c73734aaaf561db": {
          "model_module": "@jupyter-widgets/base",
          "model_name": "LayoutModel",
          "model_module_version": "1.2.0",
          "state": {
            "_model_module": "@jupyter-widgets/base",
            "_model_module_version": "1.2.0",
            "_model_name": "LayoutModel",
            "_view_count": null,
            "_view_module": "@jupyter-widgets/base",
            "_view_module_version": "1.2.0",
            "_view_name": "LayoutView",
            "align_content": null,
            "align_items": null,
            "align_self": null,
            "border": null,
            "bottom": null,
            "display": null,
            "flex": null,
            "flex_flow": null,
            "grid_area": null,
            "grid_auto_columns": null,
            "grid_auto_flow": null,
            "grid_auto_rows": null,
            "grid_column": null,
            "grid_gap": null,
            "grid_row": null,
            "grid_template_areas": null,
            "grid_template_columns": null,
            "grid_template_rows": null,
            "height": null,
            "justify_content": null,
            "justify_items": null,
            "left": null,
            "margin": null,
            "max_height": null,
            "max_width": null,
            "min_height": null,
            "min_width": null,
            "object_fit": null,
            "object_position": null,
            "order": null,
            "overflow": null,
            "overflow_x": null,
            "overflow_y": null,
            "padding": null,
            "right": null,
            "top": null,
            "visibility": null,
            "width": null
          }
        },
        "eeade160e5a74bbb94b0e5d67c848bc9": {
          "model_module": "@jupyter-widgets/controls",
          "model_name": "SliderStyleModel",
          "model_module_version": "1.5.0",
          "state": {
            "_model_module": "@jupyter-widgets/controls",
            "_model_module_version": "1.5.0",
            "_model_name": "SliderStyleModel",
            "_view_count": null,
            "_view_module": "@jupyter-widgets/base",
            "_view_module_version": "1.2.0",
            "_view_name": "StyleView",
            "description_width": "",
            "handle_color": null
          }
        },
        "7da4a755b47c45f0b60151faaba8bd2f": {
          "model_module": "@jupyter-widgets/base",
          "model_name": "LayoutModel",
          "model_module_version": "1.2.0",
          "state": {
            "_model_module": "@jupyter-widgets/base",
            "_model_module_version": "1.2.0",
            "_model_name": "LayoutModel",
            "_view_count": null,
            "_view_module": "@jupyter-widgets/base",
            "_view_module_version": "1.2.0",
            "_view_name": "LayoutView",
            "align_content": null,
            "align_items": null,
            "align_self": null,
            "border": null,
            "bottom": null,
            "display": null,
            "flex": null,
            "flex_flow": null,
            "grid_area": null,
            "grid_auto_columns": null,
            "grid_auto_flow": null,
            "grid_auto_rows": null,
            "grid_column": null,
            "grid_gap": null,
            "grid_row": null,
            "grid_template_areas": null,
            "grid_template_columns": null,
            "grid_template_rows": null,
            "height": null,
            "justify_content": null,
            "justify_items": null,
            "left": null,
            "margin": null,
            "max_height": null,
            "max_width": null,
            "min_height": null,
            "min_width": null,
            "object_fit": null,
            "object_position": null,
            "order": null,
            "overflow": null,
            "overflow_x": null,
            "overflow_y": null,
            "padding": null,
            "right": null,
            "top": null,
            "visibility": null,
            "width": null
          }
        },
        "9781d08e07224d25ab5eb808879ab1a4": {
          "model_module": "@jupyter-widgets/controls",
          "model_name": "VBoxModel",
          "model_module_version": "1.5.0",
          "state": {
            "_dom_classes": [
              "widget-interact"
            ],
            "_model_module": "@jupyter-widgets/controls",
            "_model_module_version": "1.5.0",
            "_model_name": "VBoxModel",
            "_view_count": null,
            "_view_module": "@jupyter-widgets/controls",
            "_view_module_version": "1.5.0",
            "_view_name": "VBoxView",
            "box_style": "",
            "children": [
              "IPY_MODEL_1448be20808e4634a994432518bc47e0",
              "IPY_MODEL_49f3f98a6c70488ba606abb0ecb100e6",
              "IPY_MODEL_a9c95f2678e24112ba13a35d65510e8c"
            ],
            "layout": "IPY_MODEL_b0404f8dc30d411492bdf9b76b8fb1d1"
          }
        },
        "1448be20808e4634a994432518bc47e0": {
          "model_module": "@jupyter-widgets/controls",
          "model_name": "FloatSliderModel",
          "model_module_version": "1.5.0",
          "state": {
            "_dom_classes": [],
            "_model_module": "@jupyter-widgets/controls",
            "_model_module_version": "1.5.0",
            "_model_name": "FloatSliderModel",
            "_view_count": null,
            "_view_module": "@jupyter-widgets/controls",
            "_view_module_version": "1.5.0",
            "_view_name": "FloatSliderView",
            "continuous_update": true,
            "description": "x",
            "description_tooltip": null,
            "disabled": false,
            "layout": "IPY_MODEL_4252ffdfa2334f169cb23e42fddabe88",
            "max": 5,
            "min": -5,
            "orientation": "horizontal",
            "readout": true,
            "readout_format": ".2f",
            "step": 0.1,
            "style": "IPY_MODEL_10acb4eb2b6347e5bc64c3740abd22e0",
            "value": 1
          }
        },
        "49f3f98a6c70488ba606abb0ecb100e6": {
          "model_module": "@jupyter-widgets/controls",
          "model_name": "IntSliderModel",
          "model_module_version": "1.5.0",
          "state": {
            "_dom_classes": [],
            "_model_module": "@jupyter-widgets/controls",
            "_model_module_version": "1.5.0",
            "_model_name": "IntSliderModel",
            "_view_count": null,
            "_view_module": "@jupyter-widgets/controls",
            "_view_module_version": "1.5.0",
            "_view_name": "IntSliderView",
            "continuous_update": true,
            "description": "N",
            "description_tooltip": null,
            "disabled": false,
            "layout": "IPY_MODEL_551bdf512db6443a973607d70f424619",
            "max": 30,
            "min": 0,
            "orientation": "horizontal",
            "readout": true,
            "readout_format": "d",
            "step": 1,
            "style": "IPY_MODEL_e5d5a9262bc7470b86700d3a9d558712",
            "value": 5
          }
        },
        "a9c95f2678e24112ba13a35d65510e8c": {
          "model_module": "@jupyter-widgets/output",
          "model_name": "OutputModel",
          "model_module_version": "1.0.0",
          "state": {
            "_dom_classes": [],
            "_model_module": "@jupyter-widgets/output",
            "_model_module_version": "1.0.0",
            "_model_name": "OutputModel",
            "_view_count": null,
            "_view_module": "@jupyter-widgets/output",
            "_view_module_version": "1.0.0",
            "_view_name": "OutputView",
            "layout": "IPY_MODEL_6406d865a5d34759a16a59caad8a27d8",
            "msg_id": "",
            "outputs": [
              {
                "output_type": "display_data",
                "data": {
                  "text/plain": "<Figure size 640x480 with 1 Axes>",
                  "image/png": "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\n"
                },
                "metadata": {}
              }
            ]
          }
        },
        "b0404f8dc30d411492bdf9b76b8fb1d1": {
          "model_module": "@jupyter-widgets/base",
          "model_name": "LayoutModel",
          "model_module_version": "1.2.0",
          "state": {
            "_model_module": "@jupyter-widgets/base",
            "_model_module_version": "1.2.0",
            "_model_name": "LayoutModel",
            "_view_count": null,
            "_view_module": "@jupyter-widgets/base",
            "_view_module_version": "1.2.0",
            "_view_name": "LayoutView",
            "align_content": null,
            "align_items": null,
            "align_self": null,
            "border": null,
            "bottom": null,
            "display": null,
            "flex": null,
            "flex_flow": null,
            "grid_area": null,
            "grid_auto_columns": null,
            "grid_auto_flow": null,
            "grid_auto_rows": null,
            "grid_column": null,
            "grid_gap": null,
            "grid_row": null,
            "grid_template_areas": null,
            "grid_template_columns": null,
            "grid_template_rows": null,
            "height": null,
            "justify_content": null,
            "justify_items": null,
            "left": null,
            "margin": null,
            "max_height": null,
            "max_width": null,
            "min_height": null,
            "min_width": null,
            "object_fit": null,
            "object_position": null,
            "order": null,
            "overflow": null,
            "overflow_x": null,
            "overflow_y": null,
            "padding": null,
            "right": null,
            "top": null,
            "visibility": null,
            "width": null
          }
        },
        "4252ffdfa2334f169cb23e42fddabe88": {
          "model_module": "@jupyter-widgets/base",
          "model_name": "LayoutModel",
          "model_module_version": "1.2.0",
          "state": {
            "_model_module": "@jupyter-widgets/base",
            "_model_module_version": "1.2.0",
            "_model_name": "LayoutModel",
            "_view_count": null,
            "_view_module": "@jupyter-widgets/base",
            "_view_module_version": "1.2.0",
            "_view_name": "LayoutView",
            "align_content": null,
            "align_items": null,
            "align_self": null,
            "border": null,
            "bottom": null,
            "display": null,
            "flex": null,
            "flex_flow": null,
            "grid_area": null,
            "grid_auto_columns": null,
            "grid_auto_flow": null,
            "grid_auto_rows": null,
            "grid_column": null,
            "grid_gap": null,
            "grid_row": null,
            "grid_template_areas": null,
            "grid_template_columns": null,
            "grid_template_rows": null,
            "height": null,
            "justify_content": null,
            "justify_items": null,
            "left": null,
            "margin": null,
            "max_height": null,
            "max_width": null,
            "min_height": null,
            "min_width": null,
            "object_fit": null,
            "object_position": null,
            "order": null,
            "overflow": null,
            "overflow_x": null,
            "overflow_y": null,
            "padding": null,
            "right": null,
            "top": null,
            "visibility": null,
            "width": null
          }
        },
        "10acb4eb2b6347e5bc64c3740abd22e0": {
          "model_module": "@jupyter-widgets/controls",
          "model_name": "SliderStyleModel",
          "model_module_version": "1.5.0",
          "state": {
            "_model_module": "@jupyter-widgets/controls",
            "_model_module_version": "1.5.0",
            "_model_name": "SliderStyleModel",
            "_view_count": null,
            "_view_module": "@jupyter-widgets/base",
            "_view_module_version": "1.2.0",
            "_view_name": "StyleView",
            "description_width": "",
            "handle_color": null
          }
        },
        "551bdf512db6443a973607d70f424619": {
          "model_module": "@jupyter-widgets/base",
          "model_name": "LayoutModel",
          "model_module_version": "1.2.0",
          "state": {
            "_model_module": "@jupyter-widgets/base",
            "_model_module_version": "1.2.0",
            "_model_name": "LayoutModel",
            "_view_count": null,
            "_view_module": "@jupyter-widgets/base",
            "_view_module_version": "1.2.0",
            "_view_name": "LayoutView",
            "align_content": null,
            "align_items": null,
            "align_self": null,
            "border": null,
            "bottom": null,
            "display": null,
            "flex": null,
            "flex_flow": null,
            "grid_area": null,
            "grid_auto_columns": null,
            "grid_auto_flow": null,
            "grid_auto_rows": null,
            "grid_column": null,
            "grid_gap": null,
            "grid_row": null,
            "grid_template_areas": null,
            "grid_template_columns": null,
            "grid_template_rows": null,
            "height": null,
            "justify_content": null,
            "justify_items": null,
            "left": null,
            "margin": null,
            "max_height": null,
            "max_width": null,
            "min_height": null,
            "min_width": null,
            "object_fit": null,
            "object_position": null,
            "order": null,
            "overflow": null,
            "overflow_x": null,
            "overflow_y": null,
            "padding": null,
            "right": null,
            "top": null,
            "visibility": null,
            "width": null
          }
        },
        "e5d5a9262bc7470b86700d3a9d558712": {
          "model_module": "@jupyter-widgets/controls",
          "model_name": "SliderStyleModel",
          "model_module_version": "1.5.0",
          "state": {
            "_model_module": "@jupyter-widgets/controls",
            "_model_module_version": "1.5.0",
            "_model_name": "SliderStyleModel",
            "_view_count": null,
            "_view_module": "@jupyter-widgets/base",
            "_view_module_version": "1.2.0",
            "_view_name": "StyleView",
            "description_width": "",
            "handle_color": null
          }
        },
        "6406d865a5d34759a16a59caad8a27d8": {
          "model_module": "@jupyter-widgets/base",
          "model_name": "LayoutModel",
          "model_module_version": "1.2.0",
          "state": {
            "_model_module": "@jupyter-widgets/base",
            "_model_module_version": "1.2.0",
            "_model_name": "LayoutModel",
            "_view_count": null,
            "_view_module": "@jupyter-widgets/base",
            "_view_module_version": "1.2.0",
            "_view_name": "LayoutView",
            "align_content": null,
            "align_items": null,
            "align_self": null,
            "border": null,
            "bottom": null,
            "display": null,
            "flex": null,
            "flex_flow": null,
            "grid_area": null,
            "grid_auto_columns": null,
            "grid_auto_flow": null,
            "grid_auto_rows": null,
            "grid_column": null,
            "grid_gap": null,
            "grid_row": null,
            "grid_template_areas": null,
            "grid_template_columns": null,
            "grid_template_rows": null,
            "height": null,
            "justify_content": null,
            "justify_items": null,
            "left": null,
            "margin": null,
            "max_height": null,
            "max_width": null,
            "min_height": null,
            "min_width": null,
            "object_fit": null,
            "object_position": null,
            "order": null,
            "overflow": null,
            "overflow_x": null,
            "overflow_y": null,
            "padding": null,
            "right": null,
            "top": null,
            "visibility": null,
            "width": null
          }
        },
        "7f21f3748e0647d98d4e1a4e9c4571b6": {
          "model_module": "@jupyter-widgets/controls",
          "model_name": "VBoxModel",
          "model_module_version": "1.5.0",
          "state": {
            "_dom_classes": [
              "widget-interact"
            ],
            "_model_module": "@jupyter-widgets/controls",
            "_model_module_version": "1.5.0",
            "_model_name": "VBoxModel",
            "_view_count": null,
            "_view_module": "@jupyter-widgets/controls",
            "_view_module_version": "1.5.0",
            "_view_name": "VBoxView",
            "box_style": "",
            "children": [
              "IPY_MODEL_391502c15e08419fbae5e8fa509f1f1f",
              "IPY_MODEL_36ffb7f02acf45b7ba9896e3df3419dc",
              "IPY_MODEL_efb1fd392e24410fa39b9b783c90c7d3"
            ],
            "layout": "IPY_MODEL_889c39a6d01d407bb3d8e2ff66f61b5b"
          }
        },
        "391502c15e08419fbae5e8fa509f1f1f": {
          "model_module": "@jupyter-widgets/controls",
          "model_name": "FloatSliderModel",
          "model_module_version": "1.5.0",
          "state": {
            "_dom_classes": [],
            "_model_module": "@jupyter-widgets/controls",
            "_model_module_version": "1.5.0",
            "_model_name": "FloatSliderModel",
            "_view_count": null,
            "_view_module": "@jupyter-widgets/controls",
            "_view_module_version": "1.5.0",
            "_view_name": "FloatSliderView",
            "continuous_update": true,
            "description": "x",
            "description_tooltip": null,
            "disabled": false,
            "layout": "IPY_MODEL_c680d548e4f249669175ed364a227c0e",
            "max": 5,
            "min": -5,
            "orientation": "horizontal",
            "readout": true,
            "readout_format": ".2f",
            "step": 0.1,
            "style": "IPY_MODEL_4ab7e09556f345c3b4e58b7afd53b02c",
            "value": 1
          }
        },
        "36ffb7f02acf45b7ba9896e3df3419dc": {
          "model_module": "@jupyter-widgets/controls",
          "model_name": "IntSliderModel",
          "model_module_version": "1.5.0",
          "state": {
            "_dom_classes": [],
            "_model_module": "@jupyter-widgets/controls",
            "_model_module_version": "1.5.0",
            "_model_name": "IntSliderModel",
            "_view_count": null,
            "_view_module": "@jupyter-widgets/controls",
            "_view_module_version": "1.5.0",
            "_view_name": "IntSliderView",
            "continuous_update": true,
            "description": "N",
            "description_tooltip": null,
            "disabled": false,
            "layout": "IPY_MODEL_be1e5dd683be4002bd8c5f69351a2c46",
            "max": 30,
            "min": 0,
            "orientation": "horizontal",
            "readout": true,
            "readout_format": "d",
            "step": 1,
            "style": "IPY_MODEL_d41796789e514482b2e7dd898d7f45a8",
            "value": 5
          }
        },
        "efb1fd392e24410fa39b9b783c90c7d3": {
          "model_module": "@jupyter-widgets/output",
          "model_name": "OutputModel",
          "model_module_version": "1.0.0",
          "state": {
            "_dom_classes": [],
            "_model_module": "@jupyter-widgets/output",
            "_model_module_version": "1.0.0",
            "_model_name": "OutputModel",
            "_view_count": null,
            "_view_module": "@jupyter-widgets/output",
            "_view_module_version": "1.0.0",
            "_view_name": "OutputView",
            "layout": "IPY_MODEL_a7a9848b7a4e4cb68fe754183a9ad8fc",
            "msg_id": "",
            "outputs": [
              {
                "output_type": "display_data",
                "data": {
                  "text/plain": "<Figure size 640x480 with 1 Axes>",
                  "image/png": "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\n"
                },
                "metadata": {}
              }
            ]
          }
        },
        "889c39a6d01d407bb3d8e2ff66f61b5b": {
          "model_module": "@jupyter-widgets/base",
          "model_name": "LayoutModel",
          "model_module_version": "1.2.0",
          "state": {
            "_model_module": "@jupyter-widgets/base",
            "_model_module_version": "1.2.0",
            "_model_name": "LayoutModel",
            "_view_count": null,
            "_view_module": "@jupyter-widgets/base",
            "_view_module_version": "1.2.0",
            "_view_name": "LayoutView",
            "align_content": null,
            "align_items": null,
            "align_self": null,
            "border": null,
            "bottom": null,
            "display": null,
            "flex": null,
            "flex_flow": null,
            "grid_area": null,
            "grid_auto_columns": null,
            "grid_auto_flow": null,
            "grid_auto_rows": null,
            "grid_column": null,
            "grid_gap": null,
            "grid_row": null,
            "grid_template_areas": null,
            "grid_template_columns": null,
            "grid_template_rows": null,
            "height": null,
            "justify_content": null,
            "justify_items": null,
            "left": null,
            "margin": null,
            "max_height": null,
            "max_width": null,
            "min_height": null,
            "min_width": null,
            "object_fit": null,
            "object_position": null,
            "order": null,
            "overflow": null,
            "overflow_x": null,
            "overflow_y": null,
            "padding": null,
            "right": null,
            "top": null,
            "visibility": null,
            "width": null
          }
        },
        "c680d548e4f249669175ed364a227c0e": {
          "model_module": "@jupyter-widgets/base",
          "model_name": "LayoutModel",
          "model_module_version": "1.2.0",
          "state": {
            "_model_module": "@jupyter-widgets/base",
            "_model_module_version": "1.2.0",
            "_model_name": "LayoutModel",
            "_view_count": null,
            "_view_module": "@jupyter-widgets/base",
            "_view_module_version": "1.2.0",
            "_view_name": "LayoutView",
            "align_content": null,
            "align_items": null,
            "align_self": null,
            "border": null,
            "bottom": null,
            "display": null,
            "flex": null,
            "flex_flow": null,
            "grid_area": null,
            "grid_auto_columns": null,
            "grid_auto_flow": null,
            "grid_auto_rows": null,
            "grid_column": null,
            "grid_gap": null,
            "grid_row": null,
            "grid_template_areas": null,
            "grid_template_columns": null,
            "grid_template_rows": null,
            "height": null,
            "justify_content": null,
            "justify_items": null,
            "left": null,
            "margin": null,
            "max_height": null,
            "max_width": null,
            "min_height": null,
            "min_width": null,
            "object_fit": null,
            "object_position": null,
            "order": null,
            "overflow": null,
            "overflow_x": null,
            "overflow_y": null,
            "padding": null,
            "right": null,
            "top": null,
            "visibility": null,
            "width": null
          }
        },
        "4ab7e09556f345c3b4e58b7afd53b02c": {
          "model_module": "@jupyter-widgets/controls",
          "model_name": "SliderStyleModel",
          "model_module_version": "1.5.0",
          "state": {
            "_model_module": "@jupyter-widgets/controls",
            "_model_module_version": "1.5.0",
            "_model_name": "SliderStyleModel",
            "_view_count": null,
            "_view_module": "@jupyter-widgets/base",
            "_view_module_version": "1.2.0",
            "_view_name": "StyleView",
            "description_width": "",
            "handle_color": null
          }
        },
        "be1e5dd683be4002bd8c5f69351a2c46": {
          "model_module": "@jupyter-widgets/base",
          "model_name": "LayoutModel",
          "model_module_version": "1.2.0",
          "state": {
            "_model_module": "@jupyter-widgets/base",
            "_model_module_version": "1.2.0",
            "_model_name": "LayoutModel",
            "_view_count": null,
            "_view_module": "@jupyter-widgets/base",
            "_view_module_version": "1.2.0",
            "_view_name": "LayoutView",
            "align_content": null,
            "align_items": null,
            "align_self": null,
            "border": null,
            "bottom": null,
            "display": null,
            "flex": null,
            "flex_flow": null,
            "grid_area": null,
            "grid_auto_columns": null,
            "grid_auto_flow": null,
            "grid_auto_rows": null,
            "grid_column": null,
            "grid_gap": null,
            "grid_row": null,
            "grid_template_areas": null,
            "grid_template_columns": null,
            "grid_template_rows": null,
            "height": null,
            "justify_content": null,
            "justify_items": null,
            "left": null,
            "margin": null,
            "max_height": null,
            "max_width": null,
            "min_height": null,
            "min_width": null,
            "object_fit": null,
            "object_position": null,
            "order": null,
            "overflow": null,
            "overflow_x": null,
            "overflow_y": null,
            "padding": null,
            "right": null,
            "top": null,
            "visibility": null,
            "width": null
          }
        },
        "d41796789e514482b2e7dd898d7f45a8": {
          "model_module": "@jupyter-widgets/controls",
          "model_name": "SliderStyleModel",
          "model_module_version": "1.5.0",
          "state": {
            "_model_module": "@jupyter-widgets/controls",
            "_model_module_version": "1.5.0",
            "_model_name": "SliderStyleModel",
            "_view_count": null,
            "_view_module": "@jupyter-widgets/base",
            "_view_module_version": "1.2.0",
            "_view_name": "StyleView",
            "description_width": "",
            "handle_color": null
          }
        },
        "a7a9848b7a4e4cb68fe754183a9ad8fc": {
          "model_module": "@jupyter-widgets/base",
          "model_name": "LayoutModel",
          "model_module_version": "1.2.0",
          "state": {
            "_model_module": "@jupyter-widgets/base",
            "_model_module_version": "1.2.0",
            "_model_name": "LayoutModel",
            "_view_count": null,
            "_view_module": "@jupyter-widgets/base",
            "_view_module_version": "1.2.0",
            "_view_name": "LayoutView",
            "align_content": null,
            "align_items": null,
            "align_self": null,
            "border": null,
            "bottom": null,
            "display": null,
            "flex": null,
            "flex_flow": null,
            "grid_area": null,
            "grid_auto_columns": null,
            "grid_auto_flow": null,
            "grid_auto_rows": null,
            "grid_column": null,
            "grid_gap": null,
            "grid_row": null,
            "grid_template_areas": null,
            "grid_template_columns": null,
            "grid_template_rows": null,
            "height": null,
            "justify_content": null,
            "justify_items": null,
            "left": null,
            "margin": null,
            "max_height": null,
            "max_width": null,
            "min_height": null,
            "min_width": null,
            "object_fit": null,
            "object_position": null,
            "order": null,
            "overflow": null,
            "overflow_x": null,
            "overflow_y": null,
            "padding": null,
            "right": null,
            "top": null,
            "visibility": null,
            "width": null
          }
        },
        "6f8f6fe6140e40bb9261564c7e4a225b": {
          "model_module": "@jupyter-widgets/controls",
          "model_name": "VBoxModel",
          "model_module_version": "1.5.0",
          "state": {
            "_dom_classes": [
              "widget-interact"
            ],
            "_model_module": "@jupyter-widgets/controls",
            "_model_module_version": "1.5.0",
            "_model_name": "VBoxModel",
            "_view_count": null,
            "_view_module": "@jupyter-widgets/controls",
            "_view_module_version": "1.5.0",
            "_view_name": "VBoxView",
            "box_style": "",
            "children": [
              "IPY_MODEL_c18027df91a0476fbc2113c29fbdb0dc",
              "IPY_MODEL_6990fca59b764b5291fc3f9375bb8edc",
              "IPY_MODEL_a20e261f13f343c8a942e9e59ef1a14c"
            ],
            "layout": "IPY_MODEL_030abe8cffb847a2aa37aed60127d412"
          }
        },
        "c18027df91a0476fbc2113c29fbdb0dc": {
          "model_module": "@jupyter-widgets/controls",
          "model_name": "FloatSliderModel",
          "model_module_version": "1.5.0",
          "state": {
            "_dom_classes": [],
            "_model_module": "@jupyter-widgets/controls",
            "_model_module_version": "1.5.0",
            "_model_name": "FloatSliderModel",
            "_view_count": null,
            "_view_module": "@jupyter-widgets/controls",
            "_view_module_version": "1.5.0",
            "_view_name": "FloatSliderView",
            "continuous_update": true,
            "description": "x",
            "description_tooltip": null,
            "disabled": false,
            "layout": "IPY_MODEL_b06001d4762f461b8b3a7e35124936bd",
            "max": 4,
            "min": -4,
            "orientation": "horizontal",
            "readout": true,
            "readout_format": ".2f",
            "step": 0.1,
            "style": "IPY_MODEL_a6f4a750bafc458688071f35a71b6459",
            "value": 1
          }
        },
        "6990fca59b764b5291fc3f9375bb8edc": {
          "model_module": "@jupyter-widgets/controls",
          "model_name": "IntSliderModel",
          "model_module_version": "1.5.0",
          "state": {
            "_dom_classes": [],
            "_model_module": "@jupyter-widgets/controls",
            "_model_module_version": "1.5.0",
            "_model_name": "IntSliderModel",
            "_view_count": null,
            "_view_module": "@jupyter-widgets/controls",
            "_view_module_version": "1.5.0",
            "_view_name": "IntSliderView",
            "continuous_update": true,
            "description": "N_max",
            "description_tooltip": null,
            "disabled": false,
            "layout": "IPY_MODEL_72c7d58da61747caaa60b675a5aac32b",
            "max": 50,
            "min": 1,
            "orientation": "horizontal",
            "readout": true,
            "readout_format": "d",
            "step": 1,
            "style": "IPY_MODEL_47bea26eb04a478b9965eac6801d9e48",
            "value": 10
          }
        },
        "a20e261f13f343c8a942e9e59ef1a14c": {
          "model_module": "@jupyter-widgets/output",
          "model_name": "OutputModel",
          "model_module_version": "1.0.0",
          "state": {
            "_dom_classes": [],
            "_model_module": "@jupyter-widgets/output",
            "_model_module_version": "1.0.0",
            "_model_name": "OutputModel",
            "_view_count": null,
            "_view_module": "@jupyter-widgets/output",
            "_view_module_version": "1.0.0",
            "_view_name": "OutputView",
            "layout": "IPY_MODEL_3dc5904bec6c4c098353e14aa049c0ae",
            "msg_id": "",
            "outputs": [
              {
                "output_type": "stream",
                "name": "stdout",
                "text": [
                  "exp series partial (N=10) at x=1.000 = 2.718281801146\n",
                  "math.exp(x)                        = 2.718281828459\n",
                  "abs error                          = 2.731e-08\n",
                  "\n",
                  "cos series partial (N=10) at x=1.000 = 0.540302305868\n",
                  "math.cos(x)                        = 0.540302305868\n",
                  "abs error                          = 1.110e-16\n",
                  "\n",
                  "sin series partial (N=10) at x=1.000 = 0.841470984808\n",
                  "math.sin(x)                        = 0.841470984808\n",
                  "abs error                          = 0.000e+00\n"
                ]
              }
            ]
          }
        },
        "030abe8cffb847a2aa37aed60127d412": {
          "model_module": "@jupyter-widgets/base",
          "model_name": "LayoutModel",
          "model_module_version": "1.2.0",
          "state": {
            "_model_module": "@jupyter-widgets/base",
            "_model_module_version": "1.2.0",
            "_model_name": "LayoutModel",
            "_view_count": null,
            "_view_module": "@jupyter-widgets/base",
            "_view_module_version": "1.2.0",
            "_view_name": "LayoutView",
            "align_content": null,
            "align_items": null,
            "align_self": null,
            "border": null,
            "bottom": null,
            "display": null,
            "flex": null,
            "flex_flow": null,
            "grid_area": null,
            "grid_auto_columns": null,
            "grid_auto_flow": null,
            "grid_auto_rows": null,
            "grid_column": null,
            "grid_gap": null,
            "grid_row": null,
            "grid_template_areas": null,
            "grid_template_columns": null,
            "grid_template_rows": null,
            "height": null,
            "justify_content": null,
            "justify_items": null,
            "left": null,
            "margin": null,
            "max_height": null,
            "max_width": null,
            "min_height": null,
            "min_width": null,
            "object_fit": null,
            "object_position": null,
            "order": null,
            "overflow": null,
            "overflow_x": null,
            "overflow_y": null,
            "padding": null,
            "right": null,
            "top": null,
            "visibility": null,
            "width": null
          }
        },
        "b06001d4762f461b8b3a7e35124936bd": {
          "model_module": "@jupyter-widgets/base",
          "model_name": "LayoutModel",
          "model_module_version": "1.2.0",
          "state": {
            "_model_module": "@jupyter-widgets/base",
            "_model_module_version": "1.2.0",
            "_model_name": "LayoutModel",
            "_view_count": null,
            "_view_module": "@jupyter-widgets/base",
            "_view_module_version": "1.2.0",
            "_view_name": "LayoutView",
            "align_content": null,
            "align_items": null,
            "align_self": null,
            "border": null,
            "bottom": null,
            "display": null,
            "flex": null,
            "flex_flow": null,
            "grid_area": null,
            "grid_auto_columns": null,
            "grid_auto_flow": null,
            "grid_auto_rows": null,
            "grid_column": null,
            "grid_gap": null,
            "grid_row": null,
            "grid_template_areas": null,
            "grid_template_columns": null,
            "grid_template_rows": null,
            "height": null,
            "justify_content": null,
            "justify_items": null,
            "left": null,
            "margin": null,
            "max_height": null,
            "max_width": null,
            "min_height": null,
            "min_width": null,
            "object_fit": null,
            "object_position": null,
            "order": null,
            "overflow": null,
            "overflow_x": null,
            "overflow_y": null,
            "padding": null,
            "right": null,
            "top": null,
            "visibility": null,
            "width": null
          }
        },
        "a6f4a750bafc458688071f35a71b6459": {
          "model_module": "@jupyter-widgets/controls",
          "model_name": "SliderStyleModel",
          "model_module_version": "1.5.0",
          "state": {
            "_model_module": "@jupyter-widgets/controls",
            "_model_module_version": "1.5.0",
            "_model_name": "SliderStyleModel",
            "_view_count": null,
            "_view_module": "@jupyter-widgets/base",
            "_view_module_version": "1.2.0",
            "_view_name": "StyleView",
            "description_width": "",
            "handle_color": null
          }
        },
        "72c7d58da61747caaa60b675a5aac32b": {
          "model_module": "@jupyter-widgets/base",
          "model_name": "LayoutModel",
          "model_module_version": "1.2.0",
          "state": {
            "_model_module": "@jupyter-widgets/base",
            "_model_module_version": "1.2.0",
            "_model_name": "LayoutModel",
            "_view_count": null,
            "_view_module": "@jupyter-widgets/base",
            "_view_module_version": "1.2.0",
            "_view_name": "LayoutView",
            "align_content": null,
            "align_items": null,
            "align_self": null,
            "border": null,
            "bottom": null,
            "display": null,
            "flex": null,
            "flex_flow": null,
            "grid_area": null,
            "grid_auto_columns": null,
            "grid_auto_flow": null,
            "grid_auto_rows": null,
            "grid_column": null,
            "grid_gap": null,
            "grid_row": null,
            "grid_template_areas": null,
            "grid_template_columns": null,
            "grid_template_rows": null,
            "height": null,
            "justify_content": null,
            "justify_items": null,
            "left": null,
            "margin": null,
            "max_height": null,
            "max_width": null,
            "min_height": null,
            "min_width": null,
            "object_fit": null,
            "object_position": null,
            "order": null,
            "overflow": null,
            "overflow_x": null,
            "overflow_y": null,
            "padding": null,
            "right": null,
            "top": null,
            "visibility": null,
            "width": null
          }
        },
        "47bea26eb04a478b9965eac6801d9e48": {
          "model_module": "@jupyter-widgets/controls",
          "model_name": "SliderStyleModel",
          "model_module_version": "1.5.0",
          "state": {
            "_model_module": "@jupyter-widgets/controls",
            "_model_module_version": "1.5.0",
            "_model_name": "SliderStyleModel",
            "_view_count": null,
            "_view_module": "@jupyter-widgets/base",
            "_view_module_version": "1.2.0",
            "_view_name": "StyleView",
            "description_width": "",
            "handle_color": null
          }
        },
        "3dc5904bec6c4c098353e14aa049c0ae": {
          "model_module": "@jupyter-widgets/base",
          "model_name": "LayoutModel",
          "model_module_version": "1.2.0",
          "state": {
            "_model_module": "@jupyter-widgets/base",
            "_model_module_version": "1.2.0",
            "_model_name": "LayoutModel",
            "_view_count": null,
            "_view_module": "@jupyter-widgets/base",
            "_view_module_version": "1.2.0",
            "_view_name": "LayoutView",
            "align_content": null,
            "align_items": null,
            "align_self": null,
            "border": null,
            "bottom": null,
            "display": null,
            "flex": null,
            "flex_flow": null,
            "grid_area": null,
            "grid_auto_columns": null,
            "grid_auto_flow": null,
            "grid_auto_rows": null,
            "grid_column": null,
            "grid_gap": null,
            "grid_row": null,
            "grid_template_areas": null,
            "grid_template_columns": null,
            "grid_template_rows": null,
            "height": null,
            "justify_content": null,
            "justify_items": null,
            "left": null,
            "margin": null,
            "max_height": null,
            "max_width": null,
            "min_height": null,
            "min_width": null,
            "object_fit": null,
            "object_position": null,
            "order": null,
            "overflow": null,
            "overflow_x": null,
            "overflow_y": null,
            "padding": null,
            "right": null,
            "top": null,
            "visibility": null,
            "width": null
          }
        }
      }
    }
  },
  "nbformat": 4,
  "nbformat_minor": 5
}